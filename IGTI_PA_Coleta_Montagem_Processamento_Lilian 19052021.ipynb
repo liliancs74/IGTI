{
 "cells": [
  {
   "cell_type": "markdown",
   "metadata": {},
   "source": [
    "IGTI - Instituto de Gestão e Tecnologia da Informação\n",
    "\n",
    "Pós-Graduação MBA em Inovação e Gestão Ágil de Projetos\n",
    "\n",
    "PROJETO APLICADO"
   ]
  },
  {
   "cell_type": "markdown",
   "metadata": {},
   "source": [
    "Aluna: Lilian Campos Soares\n",
    "\n",
    "Matrícula: 304357"
   ]
  },
  {
   "cell_type": "markdown",
   "metadata": {},
   "source": [
    "Este notebook é referente aos códigos elaborados em Python na SPRINT 1 do Projeto Aplicado."
   ]
  },
  {
   "cell_type": "code",
   "execution_count": 1,
   "metadata": {},
   "outputs": [],
   "source": [
    "#Carregamento de bibliotecas gerais\n",
    "import pandas as pd \n",
    "import numpy as np\n",
    "import seaborn as sns\n",
    "import shutil\n",
    "import os\n",
    "import io\n",
    "import datetime\n",
    "from datetime import datetime\n",
    "import matplotlib.pyplot as plt"
   ]
  },
  {
   "cell_type": "code",
   "execution_count": 2,
   "metadata": {},
   "outputs": [],
   "source": [
    "#Definindo o diretório de trabalho\n",
    "#os.chdir(\"C:/IGTI/csv\")\n",
    "os.chdir(r\"/home/anaconda/Acidentes\")"
   ]
  },
  {
   "cell_type": "code",
   "execution_count": 3,
   "metadata": {},
   "outputs": [],
   "source": [
    "#Definição de configurações de dataframes\n",
    "pd.set_option('display.max_rows', 1000)\n",
    "pd.set_option('display.max_columns', 500)\n",
    "pd.set_option('display.width', 1000)\n",
    "pd.set_option('display.precision', 4)\n",
    "pd.set_option('display.expand_frame_repr', False)"
   ]
  },
  {
   "cell_type": "code",
   "execution_count": 4,
   "metadata": {},
   "outputs": [],
   "source": [
    "#Configurando os plots para serem exibidos diretamente no notebook\n",
    "%matplotlib inline"
   ]
  },
  {
   "cell_type": "code",
   "execution_count": null,
   "metadata": {},
   "outputs": [],
   "source": [
    "#Instalação do Helium - para automação de comandos em websites\n",
    "!pip install helium"
   ]
  },
  {
   "cell_type": "code",
   "execution_count": null,
   "metadata": {},
   "outputs": [],
   "source": [
    "#Instalação do Selenium - para automação de comandos em websites\n",
    "!pip install selenium"
   ]
  },
  {
   "cell_type": "code",
   "execution_count": 38,
   "metadata": {},
   "outputs": [],
   "source": [
    "#Carregamento de bibliotecas para a obtenção de arquivos\n",
    "from time import sleep\n",
    "from helium import *\n",
    "from selenium import webdriver\n",
    "import zipfile"
   ]
  },
  {
   "cell_type": "code",
   "execution_count": null,
   "metadata": {},
   "outputs": [],
   "source": [
    "#Instalaçao do PyUnpack - para descompactação de arquivos rar\n",
    "!pip install pyunpack"
   ]
  },
  {
   "cell_type": "code",
   "execution_count": null,
   "metadata": {},
   "outputs": [],
   "source": [
    "#Instalação do PaTool - para descompactação de arquivos rar\n",
    "!pip install patool"
   ]
  },
  {
   "cell_type": "code",
   "execution_count": 39,
   "metadata": {},
   "outputs": [],
   "source": [
    "#Carregamento de bibliotecas para descompactar rar\n",
    "from pyunpack import Archive\n",
    "import patoolib"
   ]
  },
  {
   "cell_type": "markdown",
   "metadata": {},
   "source": [
    "1a Seção - Scripts para a coleta de dados de acidentes e para a montagem das bases de dados de acidentes"
   ]
  },
  {
   "cell_type": "code",
   "execution_count": null,
   "metadata": {},
   "outputs": [],
   "source": [
    "#Criação do recurso para download dos arquivos da PRF de registros de acidentes\n",
    "opts = webdriver.ChromeOptions()\n",
    "opts.set_capability(\"loggingPrefs\", {\"performance\": \"ALL\"})\n",
    "\n",
    "#Download dos arquivos datatran - acidentes agrupados por ocorrência\n",
    "\n",
    "driver = start_chrome(\"https://arquivos.prf.gov.br/arquivos/index.php/s/EzXry9IsLLJosSg\", options=opts)\n",
    "sleep(3)\n",
    "click(\"Baixar datatran2007.rar\")\n",
    "sleep(12)\n",
    "kill_browser()\n",
    "\n",
    "driver = start_chrome(\"https://arquivos.prf.gov.br/arquivos/index.php/s/WEP8Pu4sA64V7f6\", options=opts)\n",
    "sleep(3)\n",
    "click(\"Baixar datatran2008.rar\")\n",
    "sleep(12)\n",
    "kill_browser()\n",
    "\n",
    "driver = start_chrome(\"https://arquivos.prf.gov.br/arquivos/index.php/s/QZXR9LVr4lynqbA\", options=opts)\n",
    "sleep(3)\n",
    "click(\"Baixar datatran2009.rar\")\n",
    "sleep(12)\n",
    "kill_browser()\n",
    "\n",
    "driver = start_chrome(\"https://arquivos.prf.gov.br/arquivos/index.php/s/tx9oSTOPYrSqDhb\", options=opts)\n",
    "sleep(3)\n",
    "click(\"Baixar datatran2010.rar\")\n",
    "sleep(12)\n",
    "kill_browser()\n",
    " \n",
    "driver = start_chrome(\"https://arquivos.prf.gov.br/arquivos/index.php/s/mBWHzsujvZ7nZbe\", options=opts)\n",
    "sleep(3)\n",
    "click(\"Baixar datatran2011.rar\")\n",
    "sleep(12)\n",
    "kill_browser()\n",
    "\n",
    "driver = start_chrome(\"https://arquivos.prf.gov.br/arquivos/index.php/s/VIeiSbpxRxan33L\", options=opts)\n",
    "sleep(3)\n",
    "click(\"Baixar datatran2012.rar\")\n",
    "sleep(12)\n",
    "kill_browser()\n",
    "\n",
    "driver = start_chrome(\"https://arquivos.prf.gov.br/arquivos/index.php/s/ZBJgHd4fmYV2Hhr\", options=opts)\n",
    "sleep(3)\n",
    "click(\"Baixar datatran2013.rar\")\n",
    "sleep(12)\n",
    "kill_browser()\n",
    "\n",
    "driver = start_chrome(\"https://arquivos.prf.gov.br/arquivos/index.php/s/1QYIZKqjcUDOrXm\", options=opts)\n",
    "sleep(3)\n",
    "click(\"Baixar datatran2014.rar\")\n",
    "sleep(12)\n",
    "kill_browser()\n",
    "\n",
    "driver = start_chrome(\"https://arquivos.prf.gov.br/arquivos/index.php/s/qqAsQep7J8FzpR5\", options=opts)\n",
    "sleep(3)\n",
    "click(\"Baixar datatran2015.rar\")\n",
    "sleep(12)\n",
    "kill_browser()\n",
    "\n",
    "driver = start_chrome(\"https://arquivos.prf.gov.br/arquivos/index.php/s/AhSKXYgrFtfXMK3\", options=opts)\n",
    "sleep(3)\n",
    "click(\"Baixar datatran2016.rar\")\n",
    "sleep(12)\n",
    "kill_browser()\n",
    "\n",
    "driver = start_chrome(\"https://arquivos.prf.gov.br/arquivos/index.php/s/nqvFu7xEF6HhbAq\", options=opts)\n",
    "sleep(3)\n",
    "click(\"Baixar datatran2017.zip\")\n",
    "sleep(12)\n",
    "kill_browser()\n",
    "\n",
    "driver = start_chrome(\"https://arquivos.prf.gov.br/arquivos/index.php/s/MaC6cieXSFACNWT\", options=opts)\n",
    "sleep(3)\n",
    "click(\"Baixar datatran2018.zip\")\n",
    "sleep(12)\n",
    "kill_browser()\n",
    "\n",
    "driver = start_chrome(\"https://arquivos.prf.gov.br/arquivos/index.php/s/kRBUylqz6DyQznN\", options=opts)\n",
    "sleep(3)\n",
    "click(\"Baixar datatran2019.zip\")\n",
    "sleep(12)\n",
    "kill_browser()\n",
    "\n",
    "driver = start_chrome(\"https://arquivos.prf.gov.br/arquivos/index.php/s/jdDLrQIf33xXSCe\", options=opts)\n",
    "sleep(3)\n",
    "click(\"Baixar datatran2020.zip\")\n",
    "sleep(12)\n",
    "kill_browser()\n",
    "\n",
    "#Download dos arquivos acidentes - acidentes agrupados por pessoa\n",
    "                      \n",
    "driver = start_chrome(\"https://arquivos.prf.gov.br/arquivos/index.php/s/2chKvzigLF9iZhy\", options=opts)\n",
    "sleep(3)\n",
    "click(\"Baixar acidentes2007.rar\")\n",
    "sleep(12)\n",
    "kill_browser()\n",
    "\n",
    "driver = start_chrome(\"https://arquivos.prf.gov.br/arquivos/index.php/s/O805ZiovElHiwuY\", options=opts)\n",
    "sleep(3)\n",
    "click(\"Baixar acidentes2008.rar\")\n",
    "sleep(12)\n",
    "kill_browser()\n",
    "\n",
    "driver = start_chrome(\"https://arquivos.prf.gov.br/arquivos/index.php/s/za17hh8I0jY9yGi\", options=opts)\n",
    "sleep(3)\n",
    "click(\"Baixar acidentes2009.rar\")\n",
    "sleep(12)\n",
    "kill_browser()\n",
    "\n",
    "driver = start_chrome(\"https://arquivos.prf.gov.br/arquivos/index.php/s/SUChWEElsoC1h8h\", options=opts)\n",
    "sleep(3)\n",
    "click(\"Baixar acidentes2010.rar\")\n",
    "sleep(12)\n",
    "kill_browser()\n",
    "\n",
    "driver = start_chrome(\"https://arquivos.prf.gov.br/arquivos/index.php/s/2IWdQpI7EVj90DG\", options=opts)\n",
    "sleep(3)\n",
    "click(\"Baixar acidentes2011.rar\")\n",
    "sleep(12)\n",
    "kill_browser()\n",
    "\n",
    "driver = start_chrome(\"https://arquivos.prf.gov.br/arquivos/index.php/s/SB4cbUhtNIwQ3np\", options=opts)\n",
    "sleep(3)\n",
    "click(\"Baixar acidentes2012.rar\")\n",
    "sleep(12)\n",
    "kill_browser()\n",
    "\n",
    "driver = start_chrome(\"https://arquivos.prf.gov.br/arquivos/index.php/s/IKvS9Ct4HrETjQV\", options=opts)\n",
    "sleep(3)\n",
    "click(\"Baixar acidentes2013.rar\")\n",
    "sleep(12)\n",
    "kill_browser()\n",
    "\n",
    "driver = start_chrome(\"https://arquivos.prf.gov.br/arquivos/index.php/s/SX9OjkKdermNOz2\", options=opts)\n",
    "sleep(3)\n",
    "click(\"Baixar acidentes2014.rar\")\n",
    "sleep(12)\n",
    "kill_browser()\n",
    "\n",
    "driver = start_chrome(\"https://arquivos.prf.gov.br/arquivos/index.php/s/hwLX6qhOh3PeYCD\", options=opts)\n",
    "sleep(3)\n",
    "click(\"Baixar acidentes2015.rar\")\n",
    "sleep(12)\n",
    "kill_browser()\n",
    " \n",
    "driver = start_chrome(\"https://arquivos.prf.gov.br/arquivos/index.php/s/xhayuB1bJhwapp7\", options=opts)\n",
    "sleep(3)\n",
    "click(\"Baixar acidentes2016.rar\")\n",
    "sleep(12)\n",
    "kill_browser()\n",
    "\n",
    "driver = start_chrome(\"https://arquivos.prf.gov.br/arquivos/index.php/s/PYMCvPsVa3ZHspf\", options=opts)\n",
    "sleep(3)\n",
    "click(\"Baixar acidentes2017.rar\")\n",
    "sleep(12)\n",
    "kill_browser()\n",
    "\n",
    "driver = start_chrome(\"https://arquivos.prf.gov.br/arquivos/index.php/s/MJRqaDMQ27F60Ml\", options=opts)\n",
    "sleep(3)\n",
    "click(\"Baixar acidentes2018.zip\")\n",
    "sleep(12)\n",
    "kill_browser()\n",
    "\n",
    "driver = start_chrome(\"https://arquivos.prf.gov.br/arquivos/index.php/s/vw74viLA7WuZI4H\", options=opts)\n",
    "sleep(3)\n",
    "click(\"Baixar acidentes2019.zip\")\n",
    "sleep(12)\n",
    "kill_browser()\n",
    "\n",
    "driver = start_chrome(\"https://arquivos.prf.gov.br/arquivos/index.php/s/35cUcYXWsrJd4tF\", options=opts)\n",
    "sleep(3)\n",
    "click(\"Baixar acidentes2020.zip\")\n",
    "sleep(12)\n",
    "kill_browser()"
   ]
  },
  {
   "cell_type": "code",
   "execution_count": 5,
   "metadata": {},
   "outputs": [],
   "source": [
    "#Verificação dos arquivos datatran.CSV: importação e visualização das dimensões\n",
    "datatran_original = pd.read_csv(r\"DPRF_ACIDENTESPOROCORRENCIA2007-2020.csv\", sep=';', decimal=',', encoding = 'cp1252', low_memory=False, parse_dates = ['data_inversa'])"
   ]
  },
  {
   "cell_type": "code",
   "execution_count": 6,
   "metadata": {},
   "outputs": [
    {
     "data": {
      "text/plain": [
       "(1851951, 31)"
      ]
     },
     "execution_count": 6,
     "metadata": {},
     "output_type": "execute_result"
    }
   ],
   "source": [
    "#Verificação dos arquivos datatran.CSV: quantidade de linhas e colunas do dataframe\n",
    "datatran_original.shape"
   ]
  },
  {
   "cell_type": "code",
   "execution_count": 7,
   "metadata": {},
   "outputs": [
    {
     "data": {
      "text/plain": [
       "RangeIndex(start=0, stop=1851951, step=1)"
      ]
     },
     "execution_count": 7,
     "metadata": {},
     "output_type": "execute_result"
    }
   ],
   "source": [
    "#Verificação dos arquivos datatran.CSV: descrição do index\n",
    "datatran_original.index"
   ]
  },
  {
   "cell_type": "code",
   "execution_count": 8,
   "metadata": {},
   "outputs": [
    {
     "data": {
      "text/plain": [
       "Index(['id', 'data_inversa', 'dia_semana', 'horario', 'uf', 'br', 'km', 'municipio', 'causa_acidente', 'tipo_acidente', 'classificacao_acidente', 'fase_dia', 'sentido_via', 'condicao_metereologica', 'tipo_pista', 'tracado_via', 'uso_solo', 'ano', 'pessoas', 'mortos', 'feridos_leves', 'feridos_graves', 'ilesos', 'ignorados', 'feridos', 'veiculos', 'latitude', 'longitude', 'regional', 'delegacia', 'uop'], dtype='object')"
      ]
     },
     "execution_count": 8,
     "metadata": {},
     "output_type": "execute_result"
    }
   ],
   "source": [
    "#Verificação dos arquivos datatran.CSV: colunas presentes\n",
    "datatran_original.columns"
   ]
  },
  {
   "cell_type": "code",
   "execution_count": 9,
   "metadata": {},
   "outputs": [
    {
     "name": "stdout",
     "output_type": "stream",
     "text": [
      "<class 'pandas.core.frame.DataFrame'>\n",
      "RangeIndex: 1851951 entries, 0 to 1851950\n",
      "Data columns (total 31 columns):\n",
      " #   Column                  Dtype         \n",
      "---  ------                  -----         \n",
      " 0   id                      float64       \n",
      " 1   data_inversa            datetime64[ns]\n",
      " 2   dia_semana              object        \n",
      " 3   horario                 object        \n",
      " 4   uf                      object        \n",
      " 5   br                      object        \n",
      " 6   km                      object        \n",
      " 7   municipio               object        \n",
      " 8   causa_acidente          object        \n",
      " 9   tipo_acidente           object        \n",
      " 10  classificacao_acidente  object        \n",
      " 11  fase_dia                object        \n",
      " 12  sentido_via             object        \n",
      " 13  condicao_metereologica  object        \n",
      " 14  tipo_pista              object        \n",
      " 15  tracado_via             object        \n",
      " 16  uso_solo                object        \n",
      " 17  ano                     float64       \n",
      " 18  pessoas                 int64         \n",
      " 19  mortos                  int64         \n",
      " 20  feridos_leves           int64         \n",
      " 21  feridos_graves          int64         \n",
      " 22  ilesos                  int64         \n",
      " 23  ignorados               int64         \n",
      " 24  feridos                 int64         \n",
      " 25  veiculos                int64         \n",
      " 26  latitude                float64       \n",
      " 27  longitude               float64       \n",
      " 28  regional                object        \n",
      " 29  delegacia               object        \n",
      " 30  uop                     object        \n",
      "dtypes: datetime64[ns](1), float64(4), int64(8), object(18)\n",
      "memory usage: 438.0+ MB\n"
     ]
    }
   ],
   "source": [
    "#Verificação dos arquivos datatran.CSV: tipos e formatos dos dados\n",
    "datatran_original.info()"
   ]
  },
  {
   "cell_type": "code",
   "execution_count": 10,
   "metadata": {},
   "outputs": [],
   "source": [
    "#Verificação dos arquivos acidentes.CSV: importação e visualização das dimensões\n",
    "acidentes_original = pd.read_csv(r\"DPRF_ACIDENTESPORPESSOA2007-2020.csv\", sep=';', decimal=',', encoding = 'cp1252', low_memory=False, parse_dates = ['data_inversa'])"
   ]
  },
  {
   "cell_type": "code",
   "execution_count": 11,
   "metadata": {},
   "outputs": [
    {
     "data": {
      "text/plain": [
       "(3954564, 37)"
      ]
     },
     "execution_count": 11,
     "metadata": {},
     "output_type": "execute_result"
    }
   ],
   "source": [
    "#Verificação dos arquivos acidentes.CSV: quantidade de linhas e colunas do dataframe\n",
    "acidentes_original.shape"
   ]
  },
  {
   "cell_type": "code",
   "execution_count": 12,
   "metadata": {},
   "outputs": [
    {
     "data": {
      "text/plain": [
       "RangeIndex(start=0, stop=3954564, step=1)"
      ]
     },
     "execution_count": 12,
     "metadata": {},
     "output_type": "execute_result"
    }
   ],
   "source": [
    "#Verificação dos arquivos acidentes.CSV: descrição do index\n",
    "acidentes_original.index"
   ]
  },
  {
   "cell_type": "code",
   "execution_count": 13,
   "metadata": {},
   "outputs": [
    {
     "data": {
      "text/plain": [
       "Index(['id', 'pesid', 'data_inversa', 'dia_semana', 'horario', 'uf', 'br', 'km', 'municipio', 'causa_acidente', 'tipo_acidente', 'classificacao_acidente', 'fase_dia', 'sentido_via', 'condicao_metereologica', 'tipo_pista', 'tracado_via', 'uso_solo', 'id_veiculo', 'tipo_veiculo', 'marca', 'ano_fabricacao_veiculo', 'tipo_envolvido', 'estado_fisico', 'idade', 'sexo', 'nacionalidade', 'naturalidade', 'ilesos', 'feridos_leves', 'feridos_graves', 'mortos', 'latitude', 'longitude', 'regional', 'delegacia', 'uop'], dtype='object')"
      ]
     },
     "execution_count": 13,
     "metadata": {},
     "output_type": "execute_result"
    }
   ],
   "source": [
    "#Verificação dos arquivos acidentes.CSV: colunas presentes\n",
    "acidentes_original.columns"
   ]
  },
  {
   "cell_type": "code",
   "execution_count": 14,
   "metadata": {},
   "outputs": [
    {
     "name": "stdout",
     "output_type": "stream",
     "text": [
      "<class 'pandas.core.frame.DataFrame'>\n",
      "RangeIndex: 3954564 entries, 0 to 3954563\n",
      "Data columns (total 37 columns):\n",
      " #   Column                  Dtype         \n",
      "---  ------                  -----         \n",
      " 0   id                      float64       \n",
      " 1   pesid                   float64       \n",
      " 2   data_inversa            datetime64[ns]\n",
      " 3   dia_semana              object        \n",
      " 4   horario                 object        \n",
      " 5   uf                      object        \n",
      " 6   br                      object        \n",
      " 7   km                      object        \n",
      " 8   municipio               object        \n",
      " 9   causa_acidente          object        \n",
      " 10  tipo_acidente           object        \n",
      " 11  classificacao_acidente  object        \n",
      " 12  fase_dia                object        \n",
      " 13  sentido_via             object        \n",
      " 14  condicao_metereologica  object        \n",
      " 15  tipo_pista              object        \n",
      " 16  tracado_via             object        \n",
      " 17  uso_solo                object        \n",
      " 18  id_veiculo              object        \n",
      " 19  tipo_veiculo            object        \n",
      " 20  marca                   object        \n",
      " 21  ano_fabricacao_veiculo  object        \n",
      " 22  tipo_envolvido          object        \n",
      " 23  estado_fisico           object        \n",
      " 24  idade                   float64       \n",
      " 25  sexo                    object        \n",
      " 26  nacionalidade           object        \n",
      " 27  naturalidade            object        \n",
      " 28  ilesos                  float64       \n",
      " 29  feridos_leves           float64       \n",
      " 30  feridos_graves          float64       \n",
      " 31  mortos                  float64       \n",
      " 32  latitude                float64       \n",
      " 33  longitude               float64       \n",
      " 34  regional                object        \n",
      " 35  delegacia               object        \n",
      " 36  uop                     object        \n",
      "dtypes: datetime64[ns](1), float64(9), object(27)\n",
      "memory usage: 1.1+ GB\n"
     ]
    }
   ],
   "source": [
    "#Verificação dos arquivos acidentes.CSV: tipos e formatos dos dados\n",
    "acidentes_original.info()"
   ]
  },
  {
   "cell_type": "markdown",
   "metadata": {},
   "source": [
    "2a Seção - Scripts para o processamento dos dados de acidentes"
   ]
  },
  {
   "cell_type": "markdown",
   "metadata": {},
   "source": [
    "Arquivos DATATRAN"
   ]
  },
  {
   "cell_type": "code",
   "execution_count": 15,
   "metadata": {},
   "outputs": [
    {
     "data": {
      "text/plain": [
       "id                              0\n",
       "data_inversa                    0\n",
       "dia_semana                      0\n",
       "horario                         0\n",
       "uf                              0\n",
       "br                            510\n",
       "km                            510\n",
       "municipio                       0\n",
       "causa_acidente                  0\n",
       "tipo_acidente                   0\n",
       "classificacao_acidente          1\n",
       "fase_dia                        1\n",
       "sentido_via                     0\n",
       "condicao_metereologica          3\n",
       "tipo_pista                      0\n",
       "tracado_via                     0\n",
       "uso_solo                        0\n",
       "ano                        386114\n",
       "pessoas                         0\n",
       "mortos                          0\n",
       "feridos_leves                   0\n",
       "feridos_graves                  0\n",
       "ilesos                          0\n",
       "ignorados                       0\n",
       "feridos                         0\n",
       "veiculos                        0\n",
       "latitude                  1562200\n",
       "longitude                 1562200\n",
       "regional                  1562200\n",
       "delegacia                 1562200\n",
       "uop                       1573290\n",
       "dtype: int64"
      ]
     },
     "execution_count": 15,
     "metadata": {},
     "output_type": "execute_result"
    }
   ],
   "source": [
    "#Verificação dos arquivos datatran.CSV: valores nulos / NaN nas colunas\n",
    "datatran_original.isnull().sum()"
   ]
  },
  {
   "cell_type": "code",
   "execution_count": 16,
   "metadata": {},
   "outputs": [
    {
     "name": "stdout",
     "output_type": "stream",
     "text": [
      "Tamanho anterior do dataset em linhas: 1851951 \n",
      "Total de registros removidos: 515\n",
      "Tamanho atual do dataset em linhas: 1851436\n"
     ]
    }
   ],
   "source": [
    "#Salvando o número de linhas atual do dataset\n",
    "antes = datatran_original.shape[0]\n",
    "\n",
    "#Descartando as colunas que não serão utilizadas\n",
    "datatran_original.drop(columns = ['ano','sentido_via','regional', 'delegacia', 'uop', 'latitude', 'longitude'], axis=1, inplace=True)\n",
    "datatran_original.reset_index(inplace=True)\n",
    "\n",
    "#Descartando registros que tem algum valor em branco nas colunas presentes no parâmetro subset\n",
    "datatran_original.dropna(subset= ['id', 'data_inversa', 'dia_semana', 'horario', 'uf', 'br', 'km', 'municipio', 'causa_acidente', 'tipo_acidente', 'classificacao_acidente', 'fase_dia', 'condicao_metereologica', 'tipo_pista', 'tracado_via', 'uso_solo', 'pessoas', 'mortos', 'feridos_leves', 'feridos_graves', 'ilesos', 'ignorados', 'feridos', 'veiculos'], how = 'any', axis = 0, inplace = True)\n",
    "\n",
    "#Apresentando o resultado\n",
    "print('Tamanho anterior do dataset em linhas: {} \\nTotal de registros removidos: {}'.format(antes,(antes - datatran_original.shape[0])))\n",
    "print('Tamanho atual do dataset em linhas: {}'.format(datatran_original.shape[0]))"
   ]
  },
  {
   "cell_type": "code",
   "execution_count": 17,
   "metadata": {},
   "outputs": [
    {
     "data": {
      "text/plain": [
       "index                     0\n",
       "id                        0\n",
       "data_inversa              0\n",
       "dia_semana                0\n",
       "horario                   0\n",
       "uf                        0\n",
       "br                        0\n",
       "km                        0\n",
       "municipio                 0\n",
       "causa_acidente            0\n",
       "tipo_acidente             0\n",
       "classificacao_acidente    0\n",
       "fase_dia                  0\n",
       "condicao_metereologica    0\n",
       "tipo_pista                0\n",
       "tracado_via               0\n",
       "uso_solo                  0\n",
       "pessoas                   0\n",
       "mortos                    0\n",
       "feridos_leves             0\n",
       "feridos_graves            0\n",
       "ilesos                    0\n",
       "ignorados                 0\n",
       "feridos                   0\n",
       "veiculos                  0\n",
       "dtype: int64"
      ]
     },
     "execution_count": 17,
     "metadata": {},
     "output_type": "execute_result"
    }
   ],
   "source": [
    "#Verificação dos arquivos datatran.CSV: valores nulos / NaN nas colunas\n",
    "datatran_original.isnull().sum()"
   ]
  },
  {
   "cell_type": "code",
   "execution_count": 18,
   "metadata": {},
   "outputs": [
    {
     "data": {
      "text/plain": [
       "index                     1851436\n",
       "id                        1851436\n",
       "data_inversa              1851436\n",
       "dia_semana                1851436\n",
       "horario                   1851436\n",
       "uf                        1851436\n",
       "br                        1851436\n",
       "km                        1851436\n",
       "municipio                 1851436\n",
       "causa_acidente            1851436\n",
       "tipo_acidente             1851436\n",
       "classificacao_acidente    1851436\n",
       "fase_dia                  1851436\n",
       "condicao_metereologica    1851436\n",
       "tipo_pista                1851436\n",
       "tracado_via               1851436\n",
       "uso_solo                  1851436\n",
       "pessoas                   1851436\n",
       "mortos                    1851436\n",
       "feridos_leves             1851436\n",
       "feridos_graves            1851436\n",
       "ilesos                    1851436\n",
       "ignorados                 1851436\n",
       "feridos                   1851436\n",
       "veiculos                  1851436\n",
       "dtype: int64"
      ]
     },
     "execution_count": 18,
     "metadata": {},
     "output_type": "execute_result"
    }
   ],
   "source": [
    "#Verificação dos arquivos datatran.CSV: contagem de dados não nulos\n",
    "datatran_original.count()"
   ]
  },
  {
   "cell_type": "code",
   "execution_count": 19,
   "metadata": {},
   "outputs": [
    {
     "data": {
      "text/plain": [
       "index                     1851436\n",
       "id                        1734105\n",
       "data_inversa                 5114\n",
       "dia_semana                      7\n",
       "horario                      1486\n",
       "uf                             28\n",
       "br                            209\n",
       "km                          18763\n",
       "municipio                    2294\n",
       "causa_acidente                 61\n",
       "tipo_acidente                  29\n",
       "classificacao_acidente          5\n",
       "fase_dia                        6\n",
       "condicao_metereologica         14\n",
       "tipo_pista                      4\n",
       "tracado_via                    12\n",
       "uso_solo                        5\n",
       "pessoas                        81\n",
       "mortos                         20\n",
       "feridos_leves                  52\n",
       "feridos_graves                 39\n",
       "ilesos                         67\n",
       "ignorados                      48\n",
       "feridos                        60\n",
       "veiculos                       22\n",
       "dtype: int64"
      ]
     },
     "execution_count": 19,
     "metadata": {},
     "output_type": "execute_result"
    }
   ],
   "source": [
    "#Verificação dos arquivos datatran.CSV: valores únicos\n",
    "datatran_original.nunique()"
   ]
  },
  {
   "cell_type": "code",
   "execution_count": 20,
   "metadata": {
    "scrolled": false
   },
   "outputs": [
    {
     "data": {
      "text/html": [
       "<div>\n",
       "<style scoped>\n",
       "    .dataframe tbody tr th:only-of-type {\n",
       "        vertical-align: middle;\n",
       "    }\n",
       "\n",
       "    .dataframe tbody tr th {\n",
       "        vertical-align: top;\n",
       "    }\n",
       "\n",
       "    .dataframe thead th {\n",
       "        text-align: right;\n",
       "    }\n",
       "</style>\n",
       "<table border=\"1\" class=\"dataframe\">\n",
       "  <thead>\n",
       "    <tr style=\"text-align: right;\">\n",
       "      <th></th>\n",
       "      <th>index</th>\n",
       "      <th>id</th>\n",
       "      <th>data_inversa</th>\n",
       "      <th>dia_semana</th>\n",
       "      <th>horario</th>\n",
       "      <th>uf</th>\n",
       "      <th>br</th>\n",
       "      <th>km</th>\n",
       "      <th>municipio</th>\n",
       "      <th>causa_acidente</th>\n",
       "      <th>tipo_acidente</th>\n",
       "      <th>classificacao_acidente</th>\n",
       "      <th>fase_dia</th>\n",
       "      <th>condicao_metereologica</th>\n",
       "      <th>tipo_pista</th>\n",
       "      <th>tracado_via</th>\n",
       "      <th>uso_solo</th>\n",
       "      <th>pessoas</th>\n",
       "      <th>mortos</th>\n",
       "      <th>feridos_leves</th>\n",
       "      <th>feridos_graves</th>\n",
       "      <th>ilesos</th>\n",
       "      <th>ignorados</th>\n",
       "      <th>feridos</th>\n",
       "      <th>veiculos</th>\n",
       "    </tr>\n",
       "  </thead>\n",
       "  <tbody>\n",
       "    <tr>\n",
       "      <th>0</th>\n",
       "      <td>0</td>\n",
       "      <td>1035523.0</td>\n",
       "      <td>2012-01-01</td>\n",
       "      <td>domingo</td>\n",
       "      <td>15:45:00</td>\n",
       "      <td>SC</td>\n",
       "      <td>282</td>\n",
       "      <td>513.7</td>\n",
       "      <td>XAXIM</td>\n",
       "      <td>Velocidade incompatível</td>\n",
       "      <td>Saída de Pista</td>\n",
       "      <td>Com Vítimas Feridas</td>\n",
       "      <td>Pleno dia</td>\n",
       "      <td>Sol</td>\n",
       "      <td>Simples</td>\n",
       "      <td>Curva</td>\n",
       "      <td>Rural</td>\n",
       "      <td>2</td>\n",
       "      <td>0</td>\n",
       "      <td>1</td>\n",
       "      <td>0</td>\n",
       "      <td>1</td>\n",
       "      <td>0</td>\n",
       "      <td>1</td>\n",
       "      <td>1</td>\n",
       "    </tr>\n",
       "    <tr>\n",
       "      <th>1</th>\n",
       "      <td>1</td>\n",
       "      <td>1035527.0</td>\n",
       "      <td>2012-01-01</td>\n",
       "      <td>domingo</td>\n",
       "      <td>03:00:00</td>\n",
       "      <td>SC</td>\n",
       "      <td>280</td>\n",
       "      <td>188</td>\n",
       "      <td>MAFRA</td>\n",
       "      <td>Ingestão de álcool</td>\n",
       "      <td>Colisão lateral</td>\n",
       "      <td>Com Vítimas Feridas</td>\n",
       "      <td>Plena noite</td>\n",
       "      <td>Chuva</td>\n",
       "      <td>Simples</td>\n",
       "      <td>Curva</td>\n",
       "      <td>Rural</td>\n",
       "      <td>3</td>\n",
       "      <td>0</td>\n",
       "      <td>1</td>\n",
       "      <td>0</td>\n",
       "      <td>2</td>\n",
       "      <td>0</td>\n",
       "      <td>1</td>\n",
       "      <td>2</td>\n",
       "    </tr>\n",
       "    <tr>\n",
       "      <th>2</th>\n",
       "      <td>2</td>\n",
       "      <td>1035528.0</td>\n",
       "      <td>2012-01-01</td>\n",
       "      <td>domingo</td>\n",
       "      <td>05:40:00</td>\n",
       "      <td>SC</td>\n",
       "      <td>116</td>\n",
       "      <td>1.5</td>\n",
       "      <td>MAFRA</td>\n",
       "      <td>Velocidade incompatível</td>\n",
       "      <td>Colisão com objeto fixo</td>\n",
       "      <td>Sem Vítimas</td>\n",
       "      <td>Plena noite</td>\n",
       "      <td>Chuva</td>\n",
       "      <td>Simples</td>\n",
       "      <td>Cruzamento</td>\n",
       "      <td>Urbano</td>\n",
       "      <td>1</td>\n",
       "      <td>0</td>\n",
       "      <td>0</td>\n",
       "      <td>0</td>\n",
       "      <td>1</td>\n",
       "      <td>0</td>\n",
       "      <td>0</td>\n",
       "      <td>1</td>\n",
       "    </tr>\n",
       "    <tr>\n",
       "      <th>3</th>\n",
       "      <td>3</td>\n",
       "      <td>1035530.0</td>\n",
       "      <td>2012-01-01</td>\n",
       "      <td>domingo</td>\n",
       "      <td>06:00:00</td>\n",
       "      <td>RO</td>\n",
       "      <td>364</td>\n",
       "      <td>616.5</td>\n",
       "      <td>ITAPUÃ DO OESTE</td>\n",
       "      <td>Outras</td>\n",
       "      <td>Saída de Pista</td>\n",
       "      <td>Com Vítimas Feridas</td>\n",
       "      <td>Pleno dia</td>\n",
       "      <td>Ignorada</td>\n",
       "      <td>Simples</td>\n",
       "      <td>Reta</td>\n",
       "      <td>Rural</td>\n",
       "      <td>1</td>\n",
       "      <td>0</td>\n",
       "      <td>1</td>\n",
       "      <td>0</td>\n",
       "      <td>0</td>\n",
       "      <td>0</td>\n",
       "      <td>1</td>\n",
       "      <td>1</td>\n",
       "    </tr>\n",
       "    <tr>\n",
       "      <th>4</th>\n",
       "      <td>4</td>\n",
       "      <td>1035533.0</td>\n",
       "      <td>2012-01-01</td>\n",
       "      <td>domingo</td>\n",
       "      <td>16:30:00</td>\n",
       "      <td>RJ</td>\n",
       "      <td>101</td>\n",
       "      <td>47</td>\n",
       "      <td>CAMPOS DOS GOYTACAZES</td>\n",
       "      <td>Ingestão de álcool</td>\n",
       "      <td>Queda de motocicleta / bicicleta / veículo</td>\n",
       "      <td>Com Vítimas Feridas</td>\n",
       "      <td>Plena noite</td>\n",
       "      <td>Chuva</td>\n",
       "      <td>Simples</td>\n",
       "      <td>Reta</td>\n",
       "      <td>Rural</td>\n",
       "      <td>1</td>\n",
       "      <td>0</td>\n",
       "      <td>1</td>\n",
       "      <td>0</td>\n",
       "      <td>0</td>\n",
       "      <td>0</td>\n",
       "      <td>1</td>\n",
       "      <td>1</td>\n",
       "    </tr>\n",
       "    <tr>\n",
       "      <th>5</th>\n",
       "      <td>5</td>\n",
       "      <td>1035536.0</td>\n",
       "      <td>2012-01-01</td>\n",
       "      <td>domingo</td>\n",
       "      <td>13:45:00</td>\n",
       "      <td>BA</td>\n",
       "      <td>116</td>\n",
       "      <td>887.6</td>\n",
       "      <td>VITORIA DA CONQUISTA</td>\n",
       "      <td>Velocidade incompatível</td>\n",
       "      <td>Saída de Pista</td>\n",
       "      <td>Com Vítimas Feridas</td>\n",
       "      <td>Pleno dia</td>\n",
       "      <td>Ceu Claro</td>\n",
       "      <td>Simples</td>\n",
       "      <td>Reta</td>\n",
       "      <td>Rural</td>\n",
       "      <td>2</td>\n",
       "      <td>0</td>\n",
       "      <td>2</td>\n",
       "      <td>0</td>\n",
       "      <td>0</td>\n",
       "      <td>0</td>\n",
       "      <td>2</td>\n",
       "      <td>1</td>\n",
       "    </tr>\n",
       "    <tr>\n",
       "      <th>6</th>\n",
       "      <td>6</td>\n",
       "      <td>1035539.0</td>\n",
       "      <td>2012-01-01</td>\n",
       "      <td>domingo</td>\n",
       "      <td>16:10:00</td>\n",
       "      <td>BA</td>\n",
       "      <td>101</td>\n",
       "      <td>897.8</td>\n",
       "      <td>TEIXEIRA DE FREITAS</td>\n",
       "      <td>Defeito na via</td>\n",
       "      <td>Capotamento</td>\n",
       "      <td>Com Vítimas Feridas</td>\n",
       "      <td>Pleno dia</td>\n",
       "      <td>Nublado</td>\n",
       "      <td>Simples</td>\n",
       "      <td>Reta</td>\n",
       "      <td>Rural</td>\n",
       "      <td>5</td>\n",
       "      <td>0</td>\n",
       "      <td>2</td>\n",
       "      <td>0</td>\n",
       "      <td>3</td>\n",
       "      <td>0</td>\n",
       "      <td>2</td>\n",
       "      <td>1</td>\n",
       "    </tr>\n",
       "    <tr>\n",
       "      <th>7</th>\n",
       "      <td>7</td>\n",
       "      <td>1035541.0</td>\n",
       "      <td>2012-01-01</td>\n",
       "      <td>domingo</td>\n",
       "      <td>15:40:00</td>\n",
       "      <td>SC</td>\n",
       "      <td>280</td>\n",
       "      <td>22.2</td>\n",
       "      <td>ARAQUARI</td>\n",
       "      <td>Falta de atenção</td>\n",
       "      <td>Colisão Transversal</td>\n",
       "      <td>Com Vítimas Feridas</td>\n",
       "      <td>Pleno dia</td>\n",
       "      <td>Chuva</td>\n",
       "      <td>Simples</td>\n",
       "      <td>Reta</td>\n",
       "      <td>Urbano</td>\n",
       "      <td>5</td>\n",
       "      <td>0</td>\n",
       "      <td>2</td>\n",
       "      <td>2</td>\n",
       "      <td>1</td>\n",
       "      <td>0</td>\n",
       "      <td>4</td>\n",
       "      <td>2</td>\n",
       "    </tr>\n",
       "    <tr>\n",
       "      <th>8</th>\n",
       "      <td>8</td>\n",
       "      <td>1035542.0</td>\n",
       "      <td>2012-01-01</td>\n",
       "      <td>domingo</td>\n",
       "      <td>09:30:00</td>\n",
       "      <td>RO</td>\n",
       "      <td>364</td>\n",
       "      <td>703</td>\n",
       "      <td>PORTO VELHO</td>\n",
       "      <td>Ingestão de álcool</td>\n",
       "      <td>Colisão com objeto fixo</td>\n",
       "      <td>Com Vítimas Feridas</td>\n",
       "      <td>Pleno dia</td>\n",
       "      <td>Ceu Claro</td>\n",
       "      <td>Dupla</td>\n",
       "      <td>Reta</td>\n",
       "      <td>Urbano</td>\n",
       "      <td>1</td>\n",
       "      <td>0</td>\n",
       "      <td>1</td>\n",
       "      <td>0</td>\n",
       "      <td>0</td>\n",
       "      <td>0</td>\n",
       "      <td>1</td>\n",
       "      <td>1</td>\n",
       "    </tr>\n",
       "    <tr>\n",
       "      <th>9</th>\n",
       "      <td>9</td>\n",
       "      <td>1035544.0</td>\n",
       "      <td>2012-01-01</td>\n",
       "      <td>domingo</td>\n",
       "      <td>11:10:00</td>\n",
       "      <td>RO</td>\n",
       "      <td>319</td>\n",
       "      <td>22.9</td>\n",
       "      <td>PORTO VELHO</td>\n",
       "      <td>Desobediência à sinalização</td>\n",
       "      <td>Colisão Transversal</td>\n",
       "      <td>Sem Vítimas</td>\n",
       "      <td>Pleno dia</td>\n",
       "      <td>Ceu Claro</td>\n",
       "      <td>Dupla</td>\n",
       "      <td>Cruzamento</td>\n",
       "      <td>Urbano</td>\n",
       "      <td>2</td>\n",
       "      <td>0</td>\n",
       "      <td>0</td>\n",
       "      <td>0</td>\n",
       "      <td>2</td>\n",
       "      <td>0</td>\n",
       "      <td>0</td>\n",
       "      <td>2</td>\n",
       "    </tr>\n",
       "  </tbody>\n",
       "</table>\n",
       "</div>"
      ],
      "text/plain": [
       "   index         id data_inversa dia_semana   horario  uf   br     km              municipio               causa_acidente                               tipo_acidente classificacao_acidente     fase_dia condicao_metereologica tipo_pista tracado_via uso_solo  pessoas  mortos  feridos_leves  feridos_graves  ilesos  ignorados  feridos  veiculos\n",
       "0      0  1035523.0   2012-01-01    domingo  15:45:00  SC  282  513.7                  XAXIM      Velocidade incompatível                              Saída de Pista    Com Vítimas Feridas    Pleno dia                    Sol    Simples       Curva    Rural        2       0              1               0       1          0        1         1\n",
       "1      1  1035527.0   2012-01-01    domingo  03:00:00  SC  280    188                  MAFRA           Ingestão de álcool                             Colisão lateral    Com Vítimas Feridas  Plena noite                  Chuva    Simples       Curva    Rural        3       0              1               0       2          0        1         2\n",
       "2      2  1035528.0   2012-01-01    domingo  05:40:00  SC  116    1.5                  MAFRA      Velocidade incompatível                     Colisão com objeto fixo            Sem Vítimas  Plena noite                  Chuva    Simples  Cruzamento   Urbano        1       0              0               0       1          0        0         1\n",
       "3      3  1035530.0   2012-01-01    domingo  06:00:00  RO  364  616.5        ITAPUÃ DO OESTE                       Outras                              Saída de Pista    Com Vítimas Feridas    Pleno dia               Ignorada    Simples        Reta    Rural        1       0              1               0       0          0        1         1\n",
       "4      4  1035533.0   2012-01-01    domingo  16:30:00  RJ  101     47  CAMPOS DOS GOYTACAZES           Ingestão de álcool  Queda de motocicleta / bicicleta / veículo    Com Vítimas Feridas  Plena noite                  Chuva    Simples        Reta    Rural        1       0              1               0       0          0        1         1\n",
       "5      5  1035536.0   2012-01-01    domingo  13:45:00  BA  116  887.6   VITORIA DA CONQUISTA      Velocidade incompatível                              Saída de Pista    Com Vítimas Feridas    Pleno dia              Ceu Claro    Simples        Reta    Rural        2       0              2               0       0          0        2         1\n",
       "6      6  1035539.0   2012-01-01    domingo  16:10:00  BA  101  897.8    TEIXEIRA DE FREITAS               Defeito na via                                 Capotamento    Com Vítimas Feridas    Pleno dia                Nublado    Simples        Reta    Rural        5       0              2               0       3          0        2         1\n",
       "7      7  1035541.0   2012-01-01    domingo  15:40:00  SC  280   22.2               ARAQUARI             Falta de atenção                         Colisão Transversal    Com Vítimas Feridas    Pleno dia                  Chuva    Simples        Reta   Urbano        5       0              2               2       1          0        4         2\n",
       "8      8  1035542.0   2012-01-01    domingo  09:30:00  RO  364    703            PORTO VELHO           Ingestão de álcool                     Colisão com objeto fixo    Com Vítimas Feridas    Pleno dia              Ceu Claro      Dupla        Reta   Urbano        1       0              1               0       0          0        1         1\n",
       "9      9  1035544.0   2012-01-01    domingo  11:10:00  RO  319   22.9            PORTO VELHO  Desobediência à sinalização                         Colisão Transversal            Sem Vítimas    Pleno dia              Ceu Claro      Dupla  Cruzamento   Urbano        2       0              0               0       2          0        0         2"
      ]
     },
     "execution_count": 20,
     "metadata": {},
     "output_type": "execute_result"
    }
   ],
   "source": [
    "#Verificação dos arquivos datatran.CSV: amostra das primeiras 10 linhas\n",
    "datatran_original.head(10)"
   ]
  },
  {
   "cell_type": "code",
   "execution_count": 21,
   "metadata": {},
   "outputs": [
    {
     "data": {
      "text/html": [
       "<div>\n",
       "<style scoped>\n",
       "    .dataframe tbody tr th:only-of-type {\n",
       "        vertical-align: middle;\n",
       "    }\n",
       "\n",
       "    .dataframe tbody tr th {\n",
       "        vertical-align: top;\n",
       "    }\n",
       "\n",
       "    .dataframe thead th {\n",
       "        text-align: right;\n",
       "    }\n",
       "</style>\n",
       "<table border=\"1\" class=\"dataframe\">\n",
       "  <thead>\n",
       "    <tr style=\"text-align: right;\">\n",
       "      <th></th>\n",
       "      <th>index</th>\n",
       "      <th>id</th>\n",
       "      <th>data_inversa</th>\n",
       "      <th>dia_semana</th>\n",
       "      <th>horario</th>\n",
       "      <th>uf</th>\n",
       "      <th>br</th>\n",
       "      <th>km</th>\n",
       "      <th>municipio</th>\n",
       "      <th>causa_acidente</th>\n",
       "      <th>tipo_acidente</th>\n",
       "      <th>classificacao_acidente</th>\n",
       "      <th>fase_dia</th>\n",
       "      <th>condicao_metereologica</th>\n",
       "      <th>tipo_pista</th>\n",
       "      <th>tracado_via</th>\n",
       "      <th>uso_solo</th>\n",
       "      <th>pessoas</th>\n",
       "      <th>mortos</th>\n",
       "      <th>feridos_leves</th>\n",
       "      <th>feridos_graves</th>\n",
       "      <th>ilesos</th>\n",
       "      <th>ignorados</th>\n",
       "      <th>feridos</th>\n",
       "      <th>veiculos</th>\n",
       "    </tr>\n",
       "  </thead>\n",
       "  <tbody>\n",
       "    <tr>\n",
       "      <th>1851941</th>\n",
       "      <td>1851941</td>\n",
       "      <td>999989.0</td>\n",
       "      <td>2011-10-28</td>\n",
       "      <td>sexta-feira</td>\n",
       "      <td>18:00:00</td>\n",
       "      <td>BA</td>\n",
       "      <td>101</td>\n",
       "      <td>898</td>\n",
       "      <td>NOVA VICOSA</td>\n",
       "      <td>Outras</td>\n",
       "      <td>Saída de Pista</td>\n",
       "      <td>Com Vítimas Feridas</td>\n",
       "      <td>Anoitecer</td>\n",
       "      <td>Ceu Claro</td>\n",
       "      <td>Simples</td>\n",
       "      <td>Reta</td>\n",
       "      <td>Rural</td>\n",
       "      <td>3</td>\n",
       "      <td>0</td>\n",
       "      <td>2</td>\n",
       "      <td>0</td>\n",
       "      <td>1</td>\n",
       "      <td>0</td>\n",
       "      <td>2</td>\n",
       "      <td>1</td>\n",
       "    </tr>\n",
       "    <tr>\n",
       "      <th>1851942</th>\n",
       "      <td>1851942</td>\n",
       "      <td>999990.0</td>\n",
       "      <td>2011-10-28</td>\n",
       "      <td>sexta-feira</td>\n",
       "      <td>17:20:00</td>\n",
       "      <td>GO</td>\n",
       "      <td>153</td>\n",
       "      <td>505.1</td>\n",
       "      <td>APARECIDA DE GOIANIA</td>\n",
       "      <td>Outras</td>\n",
       "      <td>Atropelamento de pessoa</td>\n",
       "      <td>Com Vítimas Feridas</td>\n",
       "      <td>Pleno dia</td>\n",
       "      <td>Nublado</td>\n",
       "      <td>Dupla</td>\n",
       "      <td>Reta</td>\n",
       "      <td>Urbano</td>\n",
       "      <td>2</td>\n",
       "      <td>0</td>\n",
       "      <td>0</td>\n",
       "      <td>1</td>\n",
       "      <td>1</td>\n",
       "      <td>0</td>\n",
       "      <td>1</td>\n",
       "      <td>1</td>\n",
       "    </tr>\n",
       "    <tr>\n",
       "      <th>1851943</th>\n",
       "      <td>1851943</td>\n",
       "      <td>999991.0</td>\n",
       "      <td>2011-10-28</td>\n",
       "      <td>sexta-feira</td>\n",
       "      <td>06:22:00</td>\n",
       "      <td>MG</td>\n",
       "      <td>251</td>\n",
       "      <td>523</td>\n",
       "      <td>MONTES CLAROS</td>\n",
       "      <td>Falta de atenção</td>\n",
       "      <td>Colisão com objeto fixo</td>\n",
       "      <td>Sem Vítimas</td>\n",
       "      <td>Pleno dia</td>\n",
       "      <td>Sol</td>\n",
       "      <td>Simples</td>\n",
       "      <td>Reta</td>\n",
       "      <td>Rural</td>\n",
       "      <td>1</td>\n",
       "      <td>0</td>\n",
       "      <td>0</td>\n",
       "      <td>0</td>\n",
       "      <td>1</td>\n",
       "      <td>0</td>\n",
       "      <td>0</td>\n",
       "      <td>1</td>\n",
       "    </tr>\n",
       "    <tr>\n",
       "      <th>1851944</th>\n",
       "      <td>1851944</td>\n",
       "      <td>999992.0</td>\n",
       "      <td>2011-10-28</td>\n",
       "      <td>sexta-feira</td>\n",
       "      <td>18:00:00</td>\n",
       "      <td>MG</td>\n",
       "      <td>381</td>\n",
       "      <td>541.8</td>\n",
       "      <td>ITATIAIUCU</td>\n",
       "      <td>Falta de atenção</td>\n",
       "      <td>Colisão lateral</td>\n",
       "      <td>Sem Vítimas</td>\n",
       "      <td>Pleno dia</td>\n",
       "      <td>Sol</td>\n",
       "      <td>Dupla</td>\n",
       "      <td>Curva</td>\n",
       "      <td>Rural</td>\n",
       "      <td>2</td>\n",
       "      <td>0</td>\n",
       "      <td>0</td>\n",
       "      <td>0</td>\n",
       "      <td>1</td>\n",
       "      <td>1</td>\n",
       "      <td>0</td>\n",
       "      <td>2</td>\n",
       "    </tr>\n",
       "    <tr>\n",
       "      <th>1851945</th>\n",
       "      <td>1851945</td>\n",
       "      <td>999994.0</td>\n",
       "      <td>2011-10-28</td>\n",
       "      <td>sexta-feira</td>\n",
       "      <td>20:30:00</td>\n",
       "      <td>RJ</td>\n",
       "      <td>393</td>\n",
       "      <td>200</td>\n",
       "      <td>VASSOURAS</td>\n",
       "      <td>Outras</td>\n",
       "      <td>Colisão traseira</td>\n",
       "      <td>Sem Vítimas</td>\n",
       "      <td>Plena noite</td>\n",
       "      <td>Ceu Claro</td>\n",
       "      <td>Simples</td>\n",
       "      <td>Reta</td>\n",
       "      <td>Rural</td>\n",
       "      <td>2</td>\n",
       "      <td>0</td>\n",
       "      <td>0</td>\n",
       "      <td>0</td>\n",
       "      <td>2</td>\n",
       "      <td>0</td>\n",
       "      <td>0</td>\n",
       "      <td>2</td>\n",
       "    </tr>\n",
       "    <tr>\n",
       "      <th>1851946</th>\n",
       "      <td>1851946</td>\n",
       "      <td>999995.0</td>\n",
       "      <td>2011-10-28</td>\n",
       "      <td>sexta-feira</td>\n",
       "      <td>18:05:00</td>\n",
       "      <td>TO</td>\n",
       "      <td>226</td>\n",
       "      <td>26.2</td>\n",
       "      <td>PALMEIRAS DO TOCANTINS</td>\n",
       "      <td>Ultrapassagem indevida</td>\n",
       "      <td>Tombamento</td>\n",
       "      <td>Com Vítimas Feridas</td>\n",
       "      <td>Anoitecer</td>\n",
       "      <td>Ceu Claro</td>\n",
       "      <td>Simples</td>\n",
       "      <td>Reta</td>\n",
       "      <td>Rural</td>\n",
       "      <td>3</td>\n",
       "      <td>0</td>\n",
       "      <td>2</td>\n",
       "      <td>1</td>\n",
       "      <td>0</td>\n",
       "      <td>0</td>\n",
       "      <td>3</td>\n",
       "      <td>2</td>\n",
       "    </tr>\n",
       "    <tr>\n",
       "      <th>1851947</th>\n",
       "      <td>1851947</td>\n",
       "      <td>999996.0</td>\n",
       "      <td>2011-10-24</td>\n",
       "      <td>segunda-feira</td>\n",
       "      <td>16:20:00</td>\n",
       "      <td>MG</td>\n",
       "      <td>381</td>\n",
       "      <td>767.5</td>\n",
       "      <td>CAMPANHA</td>\n",
       "      <td>Falta de atenção</td>\n",
       "      <td>Colisão Transversal</td>\n",
       "      <td>Com Vítimas Feridas</td>\n",
       "      <td>Pleno dia</td>\n",
       "      <td>Sol</td>\n",
       "      <td>Dupla</td>\n",
       "      <td>Reta</td>\n",
       "      <td>Rural</td>\n",
       "      <td>3</td>\n",
       "      <td>0</td>\n",
       "      <td>0</td>\n",
       "      <td>1</td>\n",
       "      <td>2</td>\n",
       "      <td>0</td>\n",
       "      <td>1</td>\n",
       "      <td>2</td>\n",
       "    </tr>\n",
       "    <tr>\n",
       "      <th>1851948</th>\n",
       "      <td>1851948</td>\n",
       "      <td>999997.0</td>\n",
       "      <td>2011-10-28</td>\n",
       "      <td>sexta-feira</td>\n",
       "      <td>18:50:00</td>\n",
       "      <td>PR</td>\n",
       "      <td>376</td>\n",
       "      <td>672</td>\n",
       "      <td>GUARATUBA</td>\n",
       "      <td>Não guardar distância de segurança</td>\n",
       "      <td>Colisão traseira</td>\n",
       "      <td>Sem Vítimas</td>\n",
       "      <td>Pleno dia</td>\n",
       "      <td>Ceu Claro</td>\n",
       "      <td>Dupla</td>\n",
       "      <td>Reta</td>\n",
       "      <td>Rural</td>\n",
       "      <td>2</td>\n",
       "      <td>0</td>\n",
       "      <td>0</td>\n",
       "      <td>0</td>\n",
       "      <td>2</td>\n",
       "      <td>0</td>\n",
       "      <td>0</td>\n",
       "      <td>2</td>\n",
       "    </tr>\n",
       "    <tr>\n",
       "      <th>1851949</th>\n",
       "      <td>1851949</td>\n",
       "      <td>999998.0</td>\n",
       "      <td>2011-10-28</td>\n",
       "      <td>sexta-feira</td>\n",
       "      <td>20:00:00</td>\n",
       "      <td>SC</td>\n",
       "      <td>280</td>\n",
       "      <td>69.6</td>\n",
       "      <td>JARAGUA DO SUL</td>\n",
       "      <td>Outras</td>\n",
       "      <td>Atropelamento de pessoa</td>\n",
       "      <td>Com Vítimas Feridas</td>\n",
       "      <td>Plena noite</td>\n",
       "      <td>Ignorada</td>\n",
       "      <td>Simples</td>\n",
       "      <td>Reta</td>\n",
       "      <td>Urbano</td>\n",
       "      <td>3</td>\n",
       "      <td>0</td>\n",
       "      <td>2</td>\n",
       "      <td>1</td>\n",
       "      <td>0</td>\n",
       "      <td>0</td>\n",
       "      <td>3</td>\n",
       "      <td>1</td>\n",
       "    </tr>\n",
       "    <tr>\n",
       "      <th>1851950</th>\n",
       "      <td>1851950</td>\n",
       "      <td>999999.0</td>\n",
       "      <td>2011-10-28</td>\n",
       "      <td>sexta-feira</td>\n",
       "      <td>07:00:00</td>\n",
       "      <td>AL</td>\n",
       "      <td>101</td>\n",
       "      <td>172.5</td>\n",
       "      <td>TEOTONIO VILELA</td>\n",
       "      <td>Outras</td>\n",
       "      <td>Colisão lateral</td>\n",
       "      <td>Sem Vítimas</td>\n",
       "      <td>Pleno dia</td>\n",
       "      <td>Ceu Claro</td>\n",
       "      <td>Simples</td>\n",
       "      <td>Reta</td>\n",
       "      <td>Rural</td>\n",
       "      <td>2</td>\n",
       "      <td>0</td>\n",
       "      <td>0</td>\n",
       "      <td>0</td>\n",
       "      <td>2</td>\n",
       "      <td>0</td>\n",
       "      <td>0</td>\n",
       "      <td>2</td>\n",
       "    </tr>\n",
       "  </tbody>\n",
       "</table>\n",
       "</div>"
      ],
      "text/plain": [
       "           index        id data_inversa     dia_semana   horario  uf   br     km               municipio                      causa_acidente            tipo_acidente classificacao_acidente     fase_dia condicao_metereologica tipo_pista tracado_via uso_solo  pessoas  mortos  feridos_leves  feridos_graves  ilesos  ignorados  feridos  veiculos\n",
       "1851941  1851941  999989.0   2011-10-28    sexta-feira  18:00:00  BA  101    898             NOVA VICOSA                              Outras           Saída de Pista    Com Vítimas Feridas    Anoitecer              Ceu Claro    Simples        Reta    Rural        3       0              2               0       1          0        2         1\n",
       "1851942  1851942  999990.0   2011-10-28    sexta-feira  17:20:00  GO  153  505.1    APARECIDA DE GOIANIA                              Outras  Atropelamento de pessoa    Com Vítimas Feridas    Pleno dia                Nublado      Dupla        Reta   Urbano        2       0              0               1       1          0        1         1\n",
       "1851943  1851943  999991.0   2011-10-28    sexta-feira  06:22:00  MG  251    523           MONTES CLAROS                    Falta de atenção  Colisão com objeto fixo            Sem Vítimas    Pleno dia                    Sol    Simples        Reta    Rural        1       0              0               0       1          0        0         1\n",
       "1851944  1851944  999992.0   2011-10-28    sexta-feira  18:00:00  MG  381  541.8              ITATIAIUCU                    Falta de atenção          Colisão lateral            Sem Vítimas    Pleno dia                    Sol      Dupla       Curva    Rural        2       0              0               0       1          1        0         2\n",
       "1851945  1851945  999994.0   2011-10-28    sexta-feira  20:30:00  RJ  393    200               VASSOURAS                              Outras         Colisão traseira            Sem Vítimas  Plena noite              Ceu Claro    Simples        Reta    Rural        2       0              0               0       2          0        0         2\n",
       "1851946  1851946  999995.0   2011-10-28    sexta-feira  18:05:00  TO  226   26.2  PALMEIRAS DO TOCANTINS              Ultrapassagem indevida               Tombamento    Com Vítimas Feridas    Anoitecer              Ceu Claro    Simples        Reta    Rural        3       0              2               1       0          0        3         2\n",
       "1851947  1851947  999996.0   2011-10-24  segunda-feira  16:20:00  MG  381  767.5                CAMPANHA                    Falta de atenção      Colisão Transversal    Com Vítimas Feridas    Pleno dia                    Sol      Dupla        Reta    Rural        3       0              0               1       2          0        1         2\n",
       "1851948  1851948  999997.0   2011-10-28    sexta-feira  18:50:00  PR  376    672               GUARATUBA  Não guardar distância de segurança         Colisão traseira            Sem Vítimas    Pleno dia              Ceu Claro      Dupla        Reta    Rural        2       0              0               0       2          0        0         2\n",
       "1851949  1851949  999998.0   2011-10-28    sexta-feira  20:00:00  SC  280   69.6          JARAGUA DO SUL                              Outras  Atropelamento de pessoa    Com Vítimas Feridas  Plena noite               Ignorada    Simples        Reta   Urbano        3       0              2               1       0          0        3         1\n",
       "1851950  1851950  999999.0   2011-10-28    sexta-feira  07:00:00  AL  101  172.5         TEOTONIO VILELA                              Outras          Colisão lateral            Sem Vítimas    Pleno dia              Ceu Claro    Simples        Reta    Rural        2       0              0               0       2          0        0         2"
      ]
     },
     "execution_count": 21,
     "metadata": {},
     "output_type": "execute_result"
    }
   ],
   "source": [
    "#Verificação dos arquivos datatran.CSV: amostra das últimas 10 linhas\n",
    "datatran_original.tail(10)"
   ]
  },
  {
   "cell_type": "markdown",
   "metadata": {},
   "source": [
    "Arquivo ACIDENTES"
   ]
  },
  {
   "cell_type": "code",
   "execution_count": 22,
   "metadata": {},
   "outputs": [
    {
     "data": {
      "text/plain": [
       "id                              0\n",
       "pesid                           4\n",
       "data_inversa                    0\n",
       "dia_semana                      0\n",
       "horario                         0\n",
       "uf                              0\n",
       "br                           1188\n",
       "km                           1188\n",
       "municipio                       0\n",
       "causa_acidente                  0\n",
       "tipo_acidente                   0\n",
       "classificacao_acidente          2\n",
       "fase_dia                        1\n",
       "sentido_via                     0\n",
       "condicao_metereologica          7\n",
       "tipo_pista                      0\n",
       "tracado_via                     0\n",
       "uso_solo                        0\n",
       "id_veiculo                   4000\n",
       "tipo_veiculo                 4003\n",
       "marca                       67456\n",
       "ano_fabricacao_veiculo     218338\n",
       "tipo_envolvido                  1\n",
       "estado_fisico                   4\n",
       "idade                      103135\n",
       "sexo                          804\n",
       "nacionalidade              689687\n",
       "naturalidade               820104\n",
       "ilesos                          4\n",
       "feridos_leves                   4\n",
       "feridos_graves                  4\n",
       "mortos                          4\n",
       "latitude                  3275622\n",
       "longitude                 3275622\n",
       "regional                  3275622\n",
       "delegacia                 3275622\n",
       "uop                       3303455\n",
       "dtype: int64"
      ]
     },
     "execution_count": 22,
     "metadata": {},
     "output_type": "execute_result"
    }
   ],
   "source": [
    "#Verificação dos arquivos acidentes.CSV: valores nulos / NaN nas colunas\n",
    "acidentes_original.isnull().sum()"
   ]
  },
  {
   "cell_type": "code",
   "execution_count": 23,
   "metadata": {},
   "outputs": [
    {
     "name": "stdout",
     "output_type": "stream",
     "text": [
      "Tamanho anterior do dataset em linhas: 3954564 \n",
      "Total de registros removidos: 6009\n",
      "Tamanho atual do dataset em linhas: 3948555\n"
     ]
    }
   ],
   "source": [
    "#Salvando o número de linhas atual do dataset\n",
    "before = acidentes_original.shape[0]\n",
    "\n",
    "#Descartando as colunas que não serão utilizadas\n",
    "acidentes_original.drop(columns = ['sentido_via', 'id_veiculo', 'marca', 'ano_fabricacao_veiculo', 'idade', 'nacionalidade', 'naturalidade', 'regional', 'delegacia', 'uop', 'latitude', 'longitude'], axis=1, inplace=True)\n",
    "acidentes_original.reset_index(inplace=True)\n",
    "\n",
    "#Descartando registros que tem algum valor em branco nas colunas presentes no parâmetro subset\n",
    "acidentes_original.dropna(subset= ['id', 'pesid', 'data_inversa', 'dia_semana', 'horario', 'uf', 'br', 'km', 'municipio', 'causa_acidente', 'tipo_acidente', 'classificacao_acidente', 'fase_dia', 'condicao_metereologica', 'tipo_pista', 'tracado_via', 'uso_solo', 'tipo_veiculo', 'tipo_envolvido', 'estado_fisico', 'sexo', 'ilesos', 'feridos_leves', 'feridos_graves', 'mortos'], how = 'any', axis = 0, inplace = True)\n",
    "\n",
    "#Apresentando o resultado\n",
    "print('Tamanho anterior do dataset em linhas: {} \\nTotal de registros removidos: {}'.format(before,(before - acidentes_original.shape[0])))\n",
    "print('Tamanho atual do dataset em linhas: {}'.format(acidentes_original.shape[0]))"
   ]
  },
  {
   "cell_type": "code",
   "execution_count": 24,
   "metadata": {},
   "outputs": [
    {
     "data": {
      "text/plain": [
       "index                     0\n",
       "id                        0\n",
       "pesid                     0\n",
       "data_inversa              0\n",
       "dia_semana                0\n",
       "horario                   0\n",
       "uf                        0\n",
       "br                        0\n",
       "km                        0\n",
       "municipio                 0\n",
       "causa_acidente            0\n",
       "tipo_acidente             0\n",
       "classificacao_acidente    0\n",
       "fase_dia                  0\n",
       "condicao_metereologica    0\n",
       "tipo_pista                0\n",
       "tracado_via               0\n",
       "uso_solo                  0\n",
       "tipo_veiculo              0\n",
       "tipo_envolvido            0\n",
       "estado_fisico             0\n",
       "sexo                      0\n",
       "ilesos                    0\n",
       "feridos_leves             0\n",
       "feridos_graves            0\n",
       "mortos                    0\n",
       "dtype: int64"
      ]
     },
     "execution_count": 24,
     "metadata": {},
     "output_type": "execute_result"
    }
   ],
   "source": [
    "#Verificação dos arquivos acidentes.CSV: valores nulos / NaN nas colunas\n",
    "acidentes_original.isnull().sum()"
   ]
  },
  {
   "cell_type": "code",
   "execution_count": 25,
   "metadata": {},
   "outputs": [
    {
     "data": {
      "text/plain": [
       "index                     3948555\n",
       "id                        3948555\n",
       "pesid                     3948555\n",
       "data_inversa              3948555\n",
       "dia_semana                3948555\n",
       "horario                   3948555\n",
       "uf                        3948555\n",
       "br                        3948555\n",
       "km                        3948555\n",
       "municipio                 3948555\n",
       "causa_acidente            3948555\n",
       "tipo_acidente             3948555\n",
       "classificacao_acidente    3948555\n",
       "fase_dia                  3948555\n",
       "condicao_metereologica    3948555\n",
       "tipo_pista                3948555\n",
       "tracado_via               3948555\n",
       "uso_solo                  3948555\n",
       "tipo_veiculo              3948555\n",
       "tipo_envolvido            3948555\n",
       "estado_fisico             3948555\n",
       "sexo                      3948555\n",
       "ilesos                    3948555\n",
       "feridos_leves             3948555\n",
       "feridos_graves            3948555\n",
       "mortos                    3948555\n",
       "dtype: int64"
      ]
     },
     "execution_count": 25,
     "metadata": {},
     "output_type": "execute_result"
    }
   ],
   "source": [
    "#Verificação dos arquivos acidentes.CSV: contagem de dados não-nulos\n",
    "acidentes_original.count()"
   ]
  },
  {
   "cell_type": "code",
   "execution_count": 26,
   "metadata": {},
   "outputs": [
    {
     "data": {
      "text/plain": [
       "index                     3948555\n",
       "id                        1692294\n",
       "pesid                     3797666\n",
       "data_inversa                 4968\n",
       "dia_semana                     12\n",
       "horario                      1483\n",
       "uf                             28\n",
       "br                            208\n",
       "km                          18747\n",
       "municipio                    2287\n",
       "causa_acidente                 61\n",
       "tipo_acidente                  29\n",
       "classificacao_acidente          5\n",
       "fase_dia                        6\n",
       "condicao_metereologica         14\n",
       "tipo_pista                      4\n",
       "tracado_via                    12\n",
       "uso_solo                        5\n",
       "tipo_veiculo                   39\n",
       "tipo_envolvido                  6\n",
       "estado_fisico                   9\n",
       "sexo                            8\n",
       "ilesos                          2\n",
       "feridos_leves                   2\n",
       "feridos_graves                  2\n",
       "mortos                          2\n",
       "dtype: int64"
      ]
     },
     "execution_count": 26,
     "metadata": {},
     "output_type": "execute_result"
    }
   ],
   "source": [
    "#Verificação dos arquivos acidentes.CSV: valores únicos\n",
    "acidentes_original.nunique()"
   ]
  },
  {
   "cell_type": "code",
   "execution_count": 27,
   "metadata": {},
   "outputs": [
    {
     "data": {
      "text/html": [
       "<div>\n",
       "<style scoped>\n",
       "    .dataframe tbody tr th:only-of-type {\n",
       "        vertical-align: middle;\n",
       "    }\n",
       "\n",
       "    .dataframe tbody tr th {\n",
       "        vertical-align: top;\n",
       "    }\n",
       "\n",
       "    .dataframe thead th {\n",
       "        text-align: right;\n",
       "    }\n",
       "</style>\n",
       "<table border=\"1\" class=\"dataframe\">\n",
       "  <thead>\n",
       "    <tr style=\"text-align: right;\">\n",
       "      <th></th>\n",
       "      <th>index</th>\n",
       "      <th>id</th>\n",
       "      <th>pesid</th>\n",
       "      <th>data_inversa</th>\n",
       "      <th>dia_semana</th>\n",
       "      <th>horario</th>\n",
       "      <th>uf</th>\n",
       "      <th>br</th>\n",
       "      <th>km</th>\n",
       "      <th>municipio</th>\n",
       "      <th>causa_acidente</th>\n",
       "      <th>tipo_acidente</th>\n",
       "      <th>classificacao_acidente</th>\n",
       "      <th>fase_dia</th>\n",
       "      <th>condicao_metereologica</th>\n",
       "      <th>tipo_pista</th>\n",
       "      <th>tracado_via</th>\n",
       "      <th>uso_solo</th>\n",
       "      <th>tipo_veiculo</th>\n",
       "      <th>tipo_envolvido</th>\n",
       "      <th>estado_fisico</th>\n",
       "      <th>sexo</th>\n",
       "      <th>ilesos</th>\n",
       "      <th>feridos_leves</th>\n",
       "      <th>feridos_graves</th>\n",
       "      <th>mortos</th>\n",
       "    </tr>\n",
       "  </thead>\n",
       "  <tbody>\n",
       "    <tr>\n",
       "      <th>0</th>\n",
       "      <td>0</td>\n",
       "      <td>8.0</td>\n",
       "      <td>1.0</td>\n",
       "      <td>2017-01-01</td>\n",
       "      <td>domingo</td>\n",
       "      <td>00:00:00</td>\n",
       "      <td>PR</td>\n",
       "      <td>376</td>\n",
       "      <td>112</td>\n",
       "      <td>PARANAVAI</td>\n",
       "      <td>Fenômenos da Natureza</td>\n",
       "      <td>Queda de ocupante de veículo</td>\n",
       "      <td>Com Vítimas Feridas</td>\n",
       "      <td>Plena Noite</td>\n",
       "      <td>Chuva</td>\n",
       "      <td>Simples</td>\n",
       "      <td>Reta</td>\n",
       "      <td>Não</td>\n",
       "      <td>Motocicleta</td>\n",
       "      <td>Condutor</td>\n",
       "      <td>Lesões Graves</td>\n",
       "      <td>Masculino</td>\n",
       "      <td>0.0</td>\n",
       "      <td>0.0</td>\n",
       "      <td>1.0</td>\n",
       "      <td>0.0</td>\n",
       "    </tr>\n",
       "    <tr>\n",
       "      <th>1</th>\n",
       "      <td>1</td>\n",
       "      <td>9.0</td>\n",
       "      <td>955.0</td>\n",
       "      <td>2017-01-01</td>\n",
       "      <td>domingo</td>\n",
       "      <td>00:01:00</td>\n",
       "      <td>SC</td>\n",
       "      <td>101</td>\n",
       "      <td>234</td>\n",
       "      <td>PALHOCA</td>\n",
       "      <td>Falta de Atenção à Condução</td>\n",
       "      <td>Colisão com objeto estático</td>\n",
       "      <td>Sem Vítimas</td>\n",
       "      <td>Plena Noite</td>\n",
       "      <td>Chuva</td>\n",
       "      <td>Dupla</td>\n",
       "      <td>Curva</td>\n",
       "      <td>Não</td>\n",
       "      <td>Automóvel</td>\n",
       "      <td>Condutor</td>\n",
       "      <td>Ileso</td>\n",
       "      <td>Masculino</td>\n",
       "      <td>1.0</td>\n",
       "      <td>0.0</td>\n",
       "      <td>0.0</td>\n",
       "      <td>0.0</td>\n",
       "    </tr>\n",
       "    <tr>\n",
       "      <th>2</th>\n",
       "      <td>2</td>\n",
       "      <td>11.0</td>\n",
       "      <td>3.0</td>\n",
       "      <td>2017-01-01</td>\n",
       "      <td>domingo</td>\n",
       "      <td>00:00:00</td>\n",
       "      <td>PR</td>\n",
       "      <td>153</td>\n",
       "      <td>56,9</td>\n",
       "      <td>SANTO ANTONIO DA PLATINA</td>\n",
       "      <td>Animais na Pista</td>\n",
       "      <td>Capotamento</td>\n",
       "      <td>Com Vítimas Feridas</td>\n",
       "      <td>Plena Noite</td>\n",
       "      <td>Garoa/Chuvisco</td>\n",
       "      <td>Simples</td>\n",
       "      <td>Reta</td>\n",
       "      <td>Não</td>\n",
       "      <td>Automóvel</td>\n",
       "      <td>Passageiro</td>\n",
       "      <td>Lesões Leves</td>\n",
       "      <td>Masculino</td>\n",
       "      <td>0.0</td>\n",
       "      <td>1.0</td>\n",
       "      <td>0.0</td>\n",
       "      <td>0.0</td>\n",
       "    </tr>\n",
       "    <tr>\n",
       "      <th>3</th>\n",
       "      <td>3</td>\n",
       "      <td>11.0</td>\n",
       "      <td>2.0</td>\n",
       "      <td>2017-01-01</td>\n",
       "      <td>domingo</td>\n",
       "      <td>00:00:00</td>\n",
       "      <td>PR</td>\n",
       "      <td>153</td>\n",
       "      <td>56,9</td>\n",
       "      <td>SANTO ANTONIO DA PLATINA</td>\n",
       "      <td>Animais na Pista</td>\n",
       "      <td>Capotamento</td>\n",
       "      <td>Com Vítimas Feridas</td>\n",
       "      <td>Plena Noite</td>\n",
       "      <td>Garoa/Chuvisco</td>\n",
       "      <td>Simples</td>\n",
       "      <td>Reta</td>\n",
       "      <td>Não</td>\n",
       "      <td>Automóvel</td>\n",
       "      <td>Condutor</td>\n",
       "      <td>Lesões Leves</td>\n",
       "      <td>Feminino</td>\n",
       "      <td>0.0</td>\n",
       "      <td>1.0</td>\n",
       "      <td>0.0</td>\n",
       "      <td>0.0</td>\n",
       "    </tr>\n",
       "    <tr>\n",
       "      <th>4</th>\n",
       "      <td>4</td>\n",
       "      <td>12.0</td>\n",
       "      <td>1499.0</td>\n",
       "      <td>2017-01-01</td>\n",
       "      <td>domingo</td>\n",
       "      <td>00:00:00</td>\n",
       "      <td>GO</td>\n",
       "      <td>153</td>\n",
       "      <td>435</td>\n",
       "      <td>ANAPOLIS</td>\n",
       "      <td>Avarias e/ou desgaste excessivo no pneu</td>\n",
       "      <td>Tombamento</td>\n",
       "      <td>Com Vítimas Feridas</td>\n",
       "      <td>Plena Noite</td>\n",
       "      <td>Céu Claro</td>\n",
       "      <td>Dupla</td>\n",
       "      <td>Reta</td>\n",
       "      <td>Sim</td>\n",
       "      <td>Motocicleta</td>\n",
       "      <td>Condutor</td>\n",
       "      <td>Lesões Graves</td>\n",
       "      <td>Masculino</td>\n",
       "      <td>0.0</td>\n",
       "      <td>0.0</td>\n",
       "      <td>1.0</td>\n",
       "      <td>0.0</td>\n",
       "    </tr>\n",
       "    <tr>\n",
       "      <th>5</th>\n",
       "      <td>5</td>\n",
       "      <td>13.0</td>\n",
       "      <td>1892.0</td>\n",
       "      <td>2017-01-01</td>\n",
       "      <td>domingo</td>\n",
       "      <td>00:00:00</td>\n",
       "      <td>SC</td>\n",
       "      <td>280</td>\n",
       "      <td>77,3</td>\n",
       "      <td>CORUPA</td>\n",
       "      <td>Ingestão de Álcool</td>\n",
       "      <td>Saída de leito carroçável</td>\n",
       "      <td>Com Vítimas Feridas</td>\n",
       "      <td>Plena Noite</td>\n",
       "      <td>Chuva</td>\n",
       "      <td>Simples</td>\n",
       "      <td>Não Informado</td>\n",
       "      <td>Não</td>\n",
       "      <td>Automóvel</td>\n",
       "      <td>Condutor</td>\n",
       "      <td>Lesões Leves</td>\n",
       "      <td>Masculino</td>\n",
       "      <td>0.0</td>\n",
       "      <td>1.0</td>\n",
       "      <td>0.0</td>\n",
       "      <td>0.0</td>\n",
       "    </tr>\n",
       "    <tr>\n",
       "      <th>6</th>\n",
       "      <td>6</td>\n",
       "      <td>14.0</td>\n",
       "      <td>1563.0</td>\n",
       "      <td>2017-01-01</td>\n",
       "      <td>domingo</td>\n",
       "      <td>00:40:00</td>\n",
       "      <td>GO</td>\n",
       "      <td>60</td>\n",
       "      <td>188</td>\n",
       "      <td>GUAPO</td>\n",
       "      <td>Falta de Atenção à Condução</td>\n",
       "      <td>Colisão traseira</td>\n",
       "      <td>Com Vítimas Feridas</td>\n",
       "      <td>Plena Noite</td>\n",
       "      <td>Nublado</td>\n",
       "      <td>Dupla</td>\n",
       "      <td>Reta</td>\n",
       "      <td>Sim</td>\n",
       "      <td>Motocicleta</td>\n",
       "      <td>Condutor</td>\n",
       "      <td>Lesões Leves</td>\n",
       "      <td>Masculino</td>\n",
       "      <td>0.0</td>\n",
       "      <td>1.0</td>\n",
       "      <td>0.0</td>\n",
       "      <td>0.0</td>\n",
       "    </tr>\n",
       "    <tr>\n",
       "      <th>7</th>\n",
       "      <td>7</td>\n",
       "      <td>14.0</td>\n",
       "      <td>1558.0</td>\n",
       "      <td>2017-01-01</td>\n",
       "      <td>domingo</td>\n",
       "      <td>00:40:00</td>\n",
       "      <td>GO</td>\n",
       "      <td>60</td>\n",
       "      <td>188</td>\n",
       "      <td>GUAPO</td>\n",
       "      <td>Falta de Atenção à Condução</td>\n",
       "      <td>Colisão traseira</td>\n",
       "      <td>Com Vítimas Feridas</td>\n",
       "      <td>Plena Noite</td>\n",
       "      <td>Nublado</td>\n",
       "      <td>Dupla</td>\n",
       "      <td>Reta</td>\n",
       "      <td>Sim</td>\n",
       "      <td>Automóvel</td>\n",
       "      <td>Condutor</td>\n",
       "      <td>Ileso</td>\n",
       "      <td>Masculino</td>\n",
       "      <td>1.0</td>\n",
       "      <td>0.0</td>\n",
       "      <td>0.0</td>\n",
       "      <td>0.0</td>\n",
       "    </tr>\n",
       "    <tr>\n",
       "      <th>8</th>\n",
       "      <td>8</td>\n",
       "      <td>15.0</td>\n",
       "      <td>555.0</td>\n",
       "      <td>2017-01-01</td>\n",
       "      <td>domingo</td>\n",
       "      <td>00:01:00</td>\n",
       "      <td>PB</td>\n",
       "      <td>104</td>\n",
       "      <td>3,4</td>\n",
       "      <td>NOVA FLORESTA</td>\n",
       "      <td>Ingestão de Álcool</td>\n",
       "      <td>Tombamento</td>\n",
       "      <td>Com Vítimas Fatais</td>\n",
       "      <td>Plena Noite</td>\n",
       "      <td>Céu Claro</td>\n",
       "      <td>Simples</td>\n",
       "      <td>Curva</td>\n",
       "      <td>Sim</td>\n",
       "      <td>Motocicleta</td>\n",
       "      <td>Condutor</td>\n",
       "      <td>Óbito</td>\n",
       "      <td>Masculino</td>\n",
       "      <td>0.0</td>\n",
       "      <td>0.0</td>\n",
       "      <td>0.0</td>\n",
       "      <td>1.0</td>\n",
       "    </tr>\n",
       "    <tr>\n",
       "      <th>9</th>\n",
       "      <td>9</td>\n",
       "      <td>16.0</td>\n",
       "      <td>990.0</td>\n",
       "      <td>2017-01-01</td>\n",
       "      <td>domingo</td>\n",
       "      <td>00:30:00</td>\n",
       "      <td>TO</td>\n",
       "      <td>153</td>\n",
       "      <td>141,7</td>\n",
       "      <td>ARAGUAINA</td>\n",
       "      <td>Ingestão de Álcool</td>\n",
       "      <td>Colisão traseira</td>\n",
       "      <td>Com Vítimas Feridas</td>\n",
       "      <td>Plena Noite</td>\n",
       "      <td>Ignorado</td>\n",
       "      <td>Múltipla</td>\n",
       "      <td>Reta</td>\n",
       "      <td>Sim</td>\n",
       "      <td>Motoneta</td>\n",
       "      <td>Passageiro</td>\n",
       "      <td>Lesões Leves</td>\n",
       "      <td>Masculino</td>\n",
       "      <td>0.0</td>\n",
       "      <td>1.0</td>\n",
       "      <td>0.0</td>\n",
       "      <td>0.0</td>\n",
       "    </tr>\n",
       "  </tbody>\n",
       "</table>\n",
       "</div>"
      ],
      "text/plain": [
       "   index    id   pesid data_inversa dia_semana   horario  uf   br     km                 municipio                           causa_acidente                 tipo_acidente classificacao_acidente     fase_dia condicao_metereologica tipo_pista    tracado_via uso_solo tipo_veiculo tipo_envolvido  estado_fisico       sexo  ilesos  feridos_leves  feridos_graves  mortos\n",
       "0      0   8.0     1.0   2017-01-01    domingo  00:00:00  PR  376    112                 PARANAVAI                    Fenômenos da Natureza  Queda de ocupante de veículo    Com Vítimas Feridas  Plena Noite                  Chuva    Simples           Reta      Não  Motocicleta       Condutor  Lesões Graves  Masculino     0.0            0.0             1.0     0.0\n",
       "1      1   9.0   955.0   2017-01-01    domingo  00:01:00  SC  101    234                   PALHOCA              Falta de Atenção à Condução   Colisão com objeto estático            Sem Vítimas  Plena Noite                  Chuva      Dupla          Curva      Não    Automóvel       Condutor          Ileso  Masculino     1.0            0.0             0.0     0.0\n",
       "2      2  11.0     3.0   2017-01-01    domingo  00:00:00  PR  153   56,9  SANTO ANTONIO DA PLATINA                         Animais na Pista                   Capotamento    Com Vítimas Feridas  Plena Noite         Garoa/Chuvisco    Simples           Reta      Não    Automóvel     Passageiro   Lesões Leves  Masculino     0.0            1.0             0.0     0.0\n",
       "3      3  11.0     2.0   2017-01-01    domingo  00:00:00  PR  153   56,9  SANTO ANTONIO DA PLATINA                         Animais na Pista                   Capotamento    Com Vítimas Feridas  Plena Noite         Garoa/Chuvisco    Simples           Reta      Não    Automóvel       Condutor   Lesões Leves   Feminino     0.0            1.0             0.0     0.0\n",
       "4      4  12.0  1499.0   2017-01-01    domingo  00:00:00  GO  153    435                  ANAPOLIS  Avarias e/ou desgaste excessivo no pneu                    Tombamento    Com Vítimas Feridas  Plena Noite              Céu Claro      Dupla           Reta      Sim  Motocicleta       Condutor  Lesões Graves  Masculino     0.0            0.0             1.0     0.0\n",
       "5      5  13.0  1892.0   2017-01-01    domingo  00:00:00  SC  280   77,3                    CORUPA                       Ingestão de Álcool     Saída de leito carroçável    Com Vítimas Feridas  Plena Noite                  Chuva    Simples  Não Informado      Não    Automóvel       Condutor   Lesões Leves  Masculino     0.0            1.0             0.0     0.0\n",
       "6      6  14.0  1563.0   2017-01-01    domingo  00:40:00  GO   60    188                     GUAPO              Falta de Atenção à Condução              Colisão traseira    Com Vítimas Feridas  Plena Noite                Nublado      Dupla           Reta      Sim  Motocicleta       Condutor   Lesões Leves  Masculino     0.0            1.0             0.0     0.0\n",
       "7      7  14.0  1558.0   2017-01-01    domingo  00:40:00  GO   60    188                     GUAPO              Falta de Atenção à Condução              Colisão traseira    Com Vítimas Feridas  Plena Noite                Nublado      Dupla           Reta      Sim    Automóvel       Condutor          Ileso  Masculino     1.0            0.0             0.0     0.0\n",
       "8      8  15.0   555.0   2017-01-01    domingo  00:01:00  PB  104    3,4             NOVA FLORESTA                       Ingestão de Álcool                    Tombamento     Com Vítimas Fatais  Plena Noite              Céu Claro    Simples          Curva      Sim  Motocicleta       Condutor          Óbito  Masculino     0.0            0.0             0.0     1.0\n",
       "9      9  16.0   990.0   2017-01-01    domingo  00:30:00  TO  153  141,7                 ARAGUAINA                       Ingestão de Álcool              Colisão traseira    Com Vítimas Feridas  Plena Noite               Ignorado   Múltipla           Reta      Sim     Motoneta     Passageiro   Lesões Leves  Masculino     0.0            1.0             0.0     0.0"
      ]
     },
     "execution_count": 27,
     "metadata": {},
     "output_type": "execute_result"
    }
   ],
   "source": [
    "#Verificação dos arquivos acidentes.CSV: amostra das primeiras 10 linhas\n",
    "acidentes_original.head(10)"
   ]
  },
  {
   "cell_type": "code",
   "execution_count": 28,
   "metadata": {
    "scrolled": true
   },
   "outputs": [
    {
     "data": {
      "text/html": [
       "<div>\n",
       "<style scoped>\n",
       "    .dataframe tbody tr th:only-of-type {\n",
       "        vertical-align: middle;\n",
       "    }\n",
       "\n",
       "    .dataframe tbody tr th {\n",
       "        vertical-align: top;\n",
       "    }\n",
       "\n",
       "    .dataframe thead th {\n",
       "        text-align: right;\n",
       "    }\n",
       "</style>\n",
       "<table border=\"1\" class=\"dataframe\">\n",
       "  <thead>\n",
       "    <tr style=\"text-align: right;\">\n",
       "      <th></th>\n",
       "      <th>index</th>\n",
       "      <th>id</th>\n",
       "      <th>pesid</th>\n",
       "      <th>data_inversa</th>\n",
       "      <th>dia_semana</th>\n",
       "      <th>horario</th>\n",
       "      <th>uf</th>\n",
       "      <th>br</th>\n",
       "      <th>km</th>\n",
       "      <th>municipio</th>\n",
       "      <th>causa_acidente</th>\n",
       "      <th>tipo_acidente</th>\n",
       "      <th>classificacao_acidente</th>\n",
       "      <th>fase_dia</th>\n",
       "      <th>condicao_metereologica</th>\n",
       "      <th>tipo_pista</th>\n",
       "      <th>tracado_via</th>\n",
       "      <th>uso_solo</th>\n",
       "      <th>tipo_veiculo</th>\n",
       "      <th>tipo_envolvido</th>\n",
       "      <th>estado_fisico</th>\n",
       "      <th>sexo</th>\n",
       "      <th>ilesos</th>\n",
       "      <th>feridos_leves</th>\n",
       "      <th>feridos_graves</th>\n",
       "      <th>mortos</th>\n",
       "    </tr>\n",
       "  </thead>\n",
       "  <tbody>\n",
       "    <tr>\n",
       "      <th>3954553</th>\n",
       "      <td>3954553</td>\n",
       "      <td>8.3384e+07</td>\n",
       "      <td>8.3480e+07</td>\n",
       "      <td>2015-07-08</td>\n",
       "      <td>Sexta</td>\n",
       "      <td>13:05:00</td>\n",
       "      <td>SC</td>\n",
       "      <td>280</td>\n",
       "      <td>66</td>\n",
       "      <td>JARAGUA DO SUL</td>\n",
       "      <td>Falta de atenção</td>\n",
       "      <td>Colisão Transversal</td>\n",
       "      <td>Com Vítimas Feridas</td>\n",
       "      <td>Pleno dia</td>\n",
       "      <td>Ceu Claro</td>\n",
       "      <td>Simples</td>\n",
       "      <td>Reta</td>\n",
       "      <td>Urbano</td>\n",
       "      <td>Automóvel</td>\n",
       "      <td>Condutor</td>\n",
       "      <td>Ignorado</td>\n",
       "      <td>Inválido</td>\n",
       "      <td>0.0</td>\n",
       "      <td>0.0</td>\n",
       "      <td>0.0</td>\n",
       "      <td>0.0</td>\n",
       "    </tr>\n",
       "    <tr>\n",
       "      <th>3954554</th>\n",
       "      <td>3954554</td>\n",
       "      <td>8.3384e+07</td>\n",
       "      <td>8.3480e+07</td>\n",
       "      <td>2015-07-08</td>\n",
       "      <td>Sexta</td>\n",
       "      <td>13:05:00</td>\n",
       "      <td>SC</td>\n",
       "      <td>280</td>\n",
       "      <td>66</td>\n",
       "      <td>JARAGUA DO SUL</td>\n",
       "      <td>Falta de atenção</td>\n",
       "      <td>Colisão Transversal</td>\n",
       "      <td>Com Vítimas Feridas</td>\n",
       "      <td>Pleno dia</td>\n",
       "      <td>Ceu Claro</td>\n",
       "      <td>Simples</td>\n",
       "      <td>Reta</td>\n",
       "      <td>Urbano</td>\n",
       "      <td>Motocicletas</td>\n",
       "      <td>Condutor</td>\n",
       "      <td>Ferido Grave</td>\n",
       "      <td>Feminino</td>\n",
       "      <td>0.0</td>\n",
       "      <td>0.0</td>\n",
       "      <td>1.0</td>\n",
       "      <td>0.0</td>\n",
       "    </tr>\n",
       "    <tr>\n",
       "      <th>3954555</th>\n",
       "      <td>3954555</td>\n",
       "      <td>8.3384e+07</td>\n",
       "      <td>8.3480e+07</td>\n",
       "      <td>2015-07-08</td>\n",
       "      <td>Sexta</td>\n",
       "      <td>16:40:00</td>\n",
       "      <td>RS</td>\n",
       "      <td>392</td>\n",
       "      <td>257.9</td>\n",
       "      <td>CACAPAVA DO SUL</td>\n",
       "      <td>Defeito mecânico em veículo</td>\n",
       "      <td>Incêndio</td>\n",
       "      <td>Sem Vítimas</td>\n",
       "      <td>Pleno dia</td>\n",
       "      <td>Nublado</td>\n",
       "      <td>Simples</td>\n",
       "      <td>Reta</td>\n",
       "      <td>Urbano</td>\n",
       "      <td>Caminhão-Trator</td>\n",
       "      <td>Condutor</td>\n",
       "      <td>Ileso</td>\n",
       "      <td>Masculino</td>\n",
       "      <td>1.0</td>\n",
       "      <td>0.0</td>\n",
       "      <td>0.0</td>\n",
       "      <td>0.0</td>\n",
       "    </tr>\n",
       "    <tr>\n",
       "      <th>3954556</th>\n",
       "      <td>3954556</td>\n",
       "      <td>8.3384e+07</td>\n",
       "      <td>8.3480e+07</td>\n",
       "      <td>2015-07-08</td>\n",
       "      <td>Sexta</td>\n",
       "      <td>06:00:00</td>\n",
       "      <td>SE</td>\n",
       "      <td>101</td>\n",
       "      <td>138.9</td>\n",
       "      <td>NOSSA SENHORA DO SOCORRO</td>\n",
       "      <td>Falta de atenção</td>\n",
       "      <td>Colisão com objeto fixo</td>\n",
       "      <td>Sem Vítimas</td>\n",
       "      <td>Pleno dia</td>\n",
       "      <td>Ceu Claro</td>\n",
       "      <td>Dupla</td>\n",
       "      <td>Reta</td>\n",
       "      <td>Rural</td>\n",
       "      <td>Caminhão-Trator</td>\n",
       "      <td>Condutor</td>\n",
       "      <td>Ileso</td>\n",
       "      <td>Masculino</td>\n",
       "      <td>1.0</td>\n",
       "      <td>0.0</td>\n",
       "      <td>0.0</td>\n",
       "      <td>0.0</td>\n",
       "    </tr>\n",
       "    <tr>\n",
       "      <th>3954557</th>\n",
       "      <td>3954557</td>\n",
       "      <td>8.3384e+07</td>\n",
       "      <td>8.3480e+07</td>\n",
       "      <td>2015-06-08</td>\n",
       "      <td>Quinta</td>\n",
       "      <td>23:30:00</td>\n",
       "      <td>MT</td>\n",
       "      <td>163</td>\n",
       "      <td>1029</td>\n",
       "      <td>PEIXOTO DE AZEVEDO</td>\n",
       "      <td>Ingestão de álcool</td>\n",
       "      <td>Colisão Transversal</td>\n",
       "      <td>Com Vítimas Feridas</td>\n",
       "      <td>Plena noite</td>\n",
       "      <td>Ceu Claro</td>\n",
       "      <td>Simples</td>\n",
       "      <td>Reta</td>\n",
       "      <td>Urbano</td>\n",
       "      <td>Camioneta</td>\n",
       "      <td>Condutor</td>\n",
       "      <td>Ileso</td>\n",
       "      <td>Masculino</td>\n",
       "      <td>1.0</td>\n",
       "      <td>0.0</td>\n",
       "      <td>0.0</td>\n",
       "      <td>0.0</td>\n",
       "    </tr>\n",
       "    <tr>\n",
       "      <th>3954558</th>\n",
       "      <td>3954558</td>\n",
       "      <td>8.3384e+07</td>\n",
       "      <td>8.3480e+07</td>\n",
       "      <td>2015-06-08</td>\n",
       "      <td>Quinta</td>\n",
       "      <td>23:30:00</td>\n",
       "      <td>MT</td>\n",
       "      <td>163</td>\n",
       "      <td>1029</td>\n",
       "      <td>PEIXOTO DE AZEVEDO</td>\n",
       "      <td>Ingestão de álcool</td>\n",
       "      <td>Colisão Transversal</td>\n",
       "      <td>Com Vítimas Feridas</td>\n",
       "      <td>Plena noite</td>\n",
       "      <td>Ceu Claro</td>\n",
       "      <td>Simples</td>\n",
       "      <td>Reta</td>\n",
       "      <td>Urbano</td>\n",
       "      <td>Motocicletas</td>\n",
       "      <td>Condutor</td>\n",
       "      <td>Ferido Leve</td>\n",
       "      <td>Masculino</td>\n",
       "      <td>0.0</td>\n",
       "      <td>1.0</td>\n",
       "      <td>0.0</td>\n",
       "      <td>0.0</td>\n",
       "    </tr>\n",
       "    <tr>\n",
       "      <th>3954559</th>\n",
       "      <td>3954559</td>\n",
       "      <td>8.3384e+07</td>\n",
       "      <td>8.3480e+07</td>\n",
       "      <td>2015-06-29</td>\n",
       "      <td>segunda-feira</td>\n",
       "      <td>06:20:00</td>\n",
       "      <td>SE</td>\n",
       "      <td>101</td>\n",
       "      <td>4.9</td>\n",
       "      <td>PROPRIA</td>\n",
       "      <td>Defeito mecânico em veículo</td>\n",
       "      <td>Incêndio</td>\n",
       "      <td>Sem Vítimas</td>\n",
       "      <td>Amanhecer</td>\n",
       "      <td>Nublado</td>\n",
       "      <td>Dupla</td>\n",
       "      <td>Reta</td>\n",
       "      <td>Urbano</td>\n",
       "      <td>Automóvel</td>\n",
       "      <td>Condutor</td>\n",
       "      <td>Ileso</td>\n",
       "      <td>Masculino</td>\n",
       "      <td>1.0</td>\n",
       "      <td>0.0</td>\n",
       "      <td>0.0</td>\n",
       "      <td>0.0</td>\n",
       "    </tr>\n",
       "    <tr>\n",
       "      <th>3954560</th>\n",
       "      <td>3954560</td>\n",
       "      <td>8.3384e+07</td>\n",
       "      <td>8.3480e+07</td>\n",
       "      <td>2015-07-08</td>\n",
       "      <td>Sexta</td>\n",
       "      <td>16:45:00</td>\n",
       "      <td>RS</td>\n",
       "      <td>287</td>\n",
       "      <td>241.8</td>\n",
       "      <td>SANTA MARIA</td>\n",
       "      <td>Velocidade incompatível</td>\n",
       "      <td>Colisão lateral</td>\n",
       "      <td>Sem Vítimas</td>\n",
       "      <td>Pleno dia</td>\n",
       "      <td>Nublado</td>\n",
       "      <td>Simples</td>\n",
       "      <td>Cruzamento</td>\n",
       "      <td>Urbano</td>\n",
       "      <td>Automóvel</td>\n",
       "      <td>Condutor</td>\n",
       "      <td>Ileso</td>\n",
       "      <td>Masculino</td>\n",
       "      <td>1.0</td>\n",
       "      <td>0.0</td>\n",
       "      <td>0.0</td>\n",
       "      <td>0.0</td>\n",
       "    </tr>\n",
       "    <tr>\n",
       "      <th>3954561</th>\n",
       "      <td>3954561</td>\n",
       "      <td>8.3384e+07</td>\n",
       "      <td>8.3480e+07</td>\n",
       "      <td>2015-07-08</td>\n",
       "      <td>Sexta</td>\n",
       "      <td>16:45:00</td>\n",
       "      <td>RS</td>\n",
       "      <td>287</td>\n",
       "      <td>241.8</td>\n",
       "      <td>SANTA MARIA</td>\n",
       "      <td>Velocidade incompatível</td>\n",
       "      <td>Colisão lateral</td>\n",
       "      <td>Sem Vítimas</td>\n",
       "      <td>Pleno dia</td>\n",
       "      <td>Nublado</td>\n",
       "      <td>Simples</td>\n",
       "      <td>Cruzamento</td>\n",
       "      <td>Urbano</td>\n",
       "      <td>Caminhão</td>\n",
       "      <td>Condutor</td>\n",
       "      <td>Ileso</td>\n",
       "      <td>Masculino</td>\n",
       "      <td>1.0</td>\n",
       "      <td>0.0</td>\n",
       "      <td>0.0</td>\n",
       "      <td>0.0</td>\n",
       "    </tr>\n",
       "    <tr>\n",
       "      <th>3954562</th>\n",
       "      <td>3954562</td>\n",
       "      <td>8.3384e+07</td>\n",
       "      <td>8.3483e+07</td>\n",
       "      <td>2015-07-08</td>\n",
       "      <td>Sexta</td>\n",
       "      <td>15:50:00</td>\n",
       "      <td>ES</td>\n",
       "      <td>101</td>\n",
       "      <td>147.6</td>\n",
       "      <td>LINHARES</td>\n",
       "      <td>Velocidade incompatível</td>\n",
       "      <td>Colisão traseira</td>\n",
       "      <td>Com Vítimas Feridas</td>\n",
       "      <td>Pleno dia</td>\n",
       "      <td>Ceu Claro</td>\n",
       "      <td>Múltipla</td>\n",
       "      <td>Reta</td>\n",
       "      <td>Urbano</td>\n",
       "      <td>Automóvel</td>\n",
       "      <td>Condutor</td>\n",
       "      <td>Ileso</td>\n",
       "      <td>Masculino</td>\n",
       "      <td>1.0</td>\n",
       "      <td>0.0</td>\n",
       "      <td>0.0</td>\n",
       "      <td>0.0</td>\n",
       "    </tr>\n",
       "  </tbody>\n",
       "</table>\n",
       "</div>"
      ],
      "text/plain": [
       "           index          id       pesid data_inversa     dia_semana   horario  uf   br     km                 municipio               causa_acidente            tipo_acidente classificacao_acidente     fase_dia condicao_metereologica tipo_pista tracado_via uso_solo     tipo_veiculo tipo_envolvido estado_fisico       sexo  ilesos  feridos_leves  feridos_graves  mortos\n",
       "3954553  3954553  8.3384e+07  8.3480e+07   2015-07-08          Sexta  13:05:00  SC  280     66            JARAGUA DO SUL             Falta de atenção      Colisão Transversal    Com Vítimas Feridas    Pleno dia              Ceu Claro    Simples        Reta   Urbano        Automóvel       Condutor      Ignorado   Inválido     0.0            0.0             0.0     0.0\n",
       "3954554  3954554  8.3384e+07  8.3480e+07   2015-07-08          Sexta  13:05:00  SC  280     66            JARAGUA DO SUL             Falta de atenção      Colisão Transversal    Com Vítimas Feridas    Pleno dia              Ceu Claro    Simples        Reta   Urbano     Motocicletas       Condutor  Ferido Grave   Feminino     0.0            0.0             1.0     0.0\n",
       "3954555  3954555  8.3384e+07  8.3480e+07   2015-07-08          Sexta  16:40:00  RS  392  257.9           CACAPAVA DO SUL  Defeito mecânico em veículo                 Incêndio            Sem Vítimas    Pleno dia                Nublado    Simples        Reta   Urbano  Caminhão-Trator       Condutor         Ileso  Masculino     1.0            0.0             0.0     0.0\n",
       "3954556  3954556  8.3384e+07  8.3480e+07   2015-07-08          Sexta  06:00:00  SE  101  138.9  NOSSA SENHORA DO SOCORRO             Falta de atenção  Colisão com objeto fixo            Sem Vítimas    Pleno dia              Ceu Claro      Dupla        Reta    Rural  Caminhão-Trator       Condutor         Ileso  Masculino     1.0            0.0             0.0     0.0\n",
       "3954557  3954557  8.3384e+07  8.3480e+07   2015-06-08         Quinta  23:30:00  MT  163   1029        PEIXOTO DE AZEVEDO           Ingestão de álcool      Colisão Transversal    Com Vítimas Feridas  Plena noite              Ceu Claro    Simples        Reta   Urbano        Camioneta       Condutor         Ileso  Masculino     1.0            0.0             0.0     0.0\n",
       "3954558  3954558  8.3384e+07  8.3480e+07   2015-06-08         Quinta  23:30:00  MT  163   1029        PEIXOTO DE AZEVEDO           Ingestão de álcool      Colisão Transversal    Com Vítimas Feridas  Plena noite              Ceu Claro    Simples        Reta   Urbano     Motocicletas       Condutor   Ferido Leve  Masculino     0.0            1.0             0.0     0.0\n",
       "3954559  3954559  8.3384e+07  8.3480e+07   2015-06-29  segunda-feira  06:20:00  SE  101    4.9                   PROPRIA  Defeito mecânico em veículo                 Incêndio            Sem Vítimas    Amanhecer                Nublado      Dupla        Reta   Urbano        Automóvel       Condutor         Ileso  Masculino     1.0            0.0             0.0     0.0\n",
       "3954560  3954560  8.3384e+07  8.3480e+07   2015-07-08          Sexta  16:45:00  RS  287  241.8               SANTA MARIA      Velocidade incompatível          Colisão lateral            Sem Vítimas    Pleno dia                Nublado    Simples  Cruzamento   Urbano        Automóvel       Condutor         Ileso  Masculino     1.0            0.0             0.0     0.0\n",
       "3954561  3954561  8.3384e+07  8.3480e+07   2015-07-08          Sexta  16:45:00  RS  287  241.8               SANTA MARIA      Velocidade incompatível          Colisão lateral            Sem Vítimas    Pleno dia                Nublado    Simples  Cruzamento   Urbano         Caminhão       Condutor         Ileso  Masculino     1.0            0.0             0.0     0.0\n",
       "3954562  3954562  8.3384e+07  8.3483e+07   2015-07-08          Sexta  15:50:00  ES  101  147.6                  LINHARES      Velocidade incompatível         Colisão traseira    Com Vítimas Feridas    Pleno dia              Ceu Claro   Múltipla        Reta   Urbano        Automóvel       Condutor         Ileso  Masculino     1.0            0.0             0.0     0.0"
      ]
     },
     "execution_count": 28,
     "metadata": {},
     "output_type": "execute_result"
    }
   ],
   "source": [
    "#Verificação dos arquivos acidentes.CSV: amostra das últimas 10 linhas\n",
    "acidentes_original.tail(10)"
   ]
  },
  {
   "cell_type": "markdown",
   "metadata": {},
   "source": [
    "Tratamento / enriquecimento dos arquivos datatran.CSV e acidentes.CSV"
   ]
  },
  {
   "cell_type": "code",
   "execution_count": 29,
   "metadata": {},
   "outputs": [],
   "source": [
    "#Normalizando os registros para a feature 'uso_solo'\n",
    "datatran_original['uso_solo'] = datatran_original['uso_solo'].str.rstrip()\n",
    "datatran_original['uso_solo'].replace(to_replace = {'Sim':'Urbano', 'Não':'Rural', '(null)':'Não Informado'}, inplace= True)\n",
    "acidentes_original['uso_solo'] = acidentes_original['uso_solo'].str.rstrip()\n",
    "acidentes_original['uso_solo'].replace(to_replace = {'Sim':'Urbano', 'Não':'Rural', '(null)':'Não Informado'}, inplace= True)"
   ]
  },
  {
   "cell_type": "code",
   "execution_count": 30,
   "metadata": {},
   "outputs": [
    {
     "data": {
      "text/plain": [
       "Urbano           939751\n",
       "Rural            911675\n",
       "Não Informado        10\n",
       "Name: uso_solo, dtype: int64"
      ]
     },
     "execution_count": 30,
     "metadata": {},
     "output_type": "execute_result"
    }
   ],
   "source": [
    "datatran_original['uso_solo'].value_counts()"
   ]
  },
  {
   "cell_type": "code",
   "execution_count": 31,
   "metadata": {},
   "outputs": [
    {
     "data": {
      "text/plain": [
       "Urbano           2051309\n",
       "Rural            1897233\n",
       "Não Informado         13\n",
       "Name: uso_solo, dtype: int64"
      ]
     },
     "execution_count": 31,
     "metadata": {},
     "output_type": "execute_result"
    }
   ],
   "source": [
    "acidentes_original['uso_solo'].value_counts()"
   ]
  },
  {
   "cell_type": "code",
   "execution_count": 34,
   "metadata": {},
   "outputs": [],
   "source": [
    "datatran_original['tipo_pista'] = datatran_original['tipo_pista'].str.rstrip()\n",
    "datatran_original['tipo_pista'].replace(to_replace = {'(null)':'Não Informado'}, inplace= True)\n",
    "acidentes_original['tipo_pista'] = acidentes_original['tipo_pista'].str.rstrip()\n",
    "acidentes_original['tipo_pista'].replace(to_replace = {'(null)':'Não Informado'}, inplace= True)"
   ]
  },
  {
   "cell_type": "code",
   "execution_count": 35,
   "metadata": {},
   "outputs": [
    {
     "data": {
      "text/plain": [
       "Simples          966436\n",
       "Dupla            744842\n",
       "Múltipla         140148\n",
       "Não Informado        10\n",
       "Name: tipo_pista, dtype: int64"
      ]
     },
     "execution_count": 35,
     "metadata": {},
     "output_type": "execute_result"
    }
   ],
   "source": [
    "datatran_original['tipo_pista'].value_counts()"
   ]
  },
  {
   "cell_type": "code",
   "execution_count": 36,
   "metadata": {},
   "outputs": [
    {
     "data": {
      "text/plain": [
       "Simples          2114747\n",
       "Dupla            1530561\n",
       "Múltipla          303234\n",
       "Não Informado         13\n",
       "Name: tipo_pista, dtype: int64"
      ]
     },
     "execution_count": 36,
     "metadata": {},
     "output_type": "execute_result"
    }
   ],
   "source": [
    "acidentes_original['tipo_pista'].value_counts()"
   ]
  },
  {
   "cell_type": "code",
   "execution_count": 39,
   "metadata": {},
   "outputs": [],
   "source": [
    "datatran_original['tracado_via'] = datatran_original['tracado_via'].str.rstrip()\n",
    "datatran_original['tracado_via'].replace(to_replace = {'(null)':'Não Informado'}, inplace= True)\n",
    "acidentes_original['tracado_via'] = acidentes_original['tracado_via'].str.rstrip()\n",
    "acidentes_original['tracado_via'].replace(to_replace = {'(null)':'Não Informado'}, inplace= True)"
   ]
  },
  {
   "cell_type": "code",
   "execution_count": 40,
   "metadata": {},
   "outputs": [
    {
     "data": {
      "text/plain": [
       "Reta                     1298382\n",
       "Curva                     387008\n",
       "Cruzamento                101924\n",
       "Não Informado              29746\n",
       "Interseção de vias         13133\n",
       "Desvio Temporário           8022\n",
       "Rotatória                   5936\n",
       "Retorno Regulamentado       3318\n",
       "Viaduto                     2047\n",
       "Ponte                       1597\n",
       "Túnel                        323\n",
       "Name: tracado_via, dtype: int64"
      ]
     },
     "execution_count": 40,
     "metadata": {},
     "output_type": "execute_result"
    }
   ],
   "source": [
    "datatran_original['tracado_via'].value_counts()"
   ]
  },
  {
   "cell_type": "code",
   "execution_count": 41,
   "metadata": {},
   "outputs": [
    {
     "data": {
      "text/plain": [
       "Reta                     2848916\n",
       "Curva                     722864\n",
       "Cruzamento                221851\n",
       "Não Informado              73582\n",
       "Interseção de vias         32543\n",
       "Desvio Temporário          19459\n",
       "Rotatória                  12597\n",
       "Retorno Regulamentado       7755\n",
       "Viaduto                     4561\n",
       "Ponte                       3783\n",
       "Túnel                        644\n",
       "Name: tracado_via, dtype: int64"
      ]
     },
     "execution_count": 41,
     "metadata": {},
     "output_type": "execute_result"
    }
   ],
   "source": [
    "acidentes_original['tracado_via'].value_counts()"
   ]
  },
  {
   "cell_type": "code",
   "execution_count": 43,
   "metadata": {},
   "outputs": [],
   "source": [
    "#Normalizando os registros para a feature 'sexo'\n",
    "acidentes_original['sexo'] = acidentes_original['sexo'].str.rstrip()\n",
    "acidentes_original['sexo'].replace(to_replace= {'M':'Masculino','F':'Feminino','I':'Não Informado','Inválido':'Não Informado','Ignorado':'Não Informado'}, inplace= True)"
   ]
  },
  {
   "cell_type": "code",
   "execution_count": 44,
   "metadata": {},
   "outputs": [
    {
     "data": {
      "text/plain": [
       "Masculino        3078596\n",
       "Feminino          691631\n",
       "Não Informado     178328\n",
       "Name: sexo, dtype: int64"
      ]
     },
     "execution_count": 44,
     "metadata": {},
     "output_type": "execute_result"
    }
   ],
   "source": [
    "acidentes_original['sexo'].value_counts()"
   ]
  },
  {
   "cell_type": "code",
   "execution_count": 45,
   "metadata": {},
   "outputs": [],
   "source": [
    "#Normalizando os registros para a feature 'estado_fisico'\n",
    "acidentes_original['estado_fisico'] = acidentes_original['estado_fisico'].str.rstrip()\n",
    "acidentes_original['estado_fisico'].replace(to_replace = {'Óbito':'Morto', 'Ferido Leve':'Lesões Leves', 'Ferido Grave':'Lesões Graves','Ignorado':'Não Informado'}, inplace= True)"
   ]
  },
  {
   "cell_type": "code",
   "execution_count": 46,
   "metadata": {},
   "outputs": [
    {
     "data": {
      "text/plain": [
       "Ileso            2458729\n",
       "Lesões Leves      908742\n",
       "Lesões Graves     317662\n",
       "Não Informado     168065\n",
       "Morto              95357\n",
       "Name: estado_fisico, dtype: int64"
      ]
     },
     "execution_count": 46,
     "metadata": {},
     "output_type": "execute_result"
    }
   ],
   "source": [
    "acidentes_original['estado_fisico'].value_counts()"
   ]
  },
  {
   "cell_type": "code",
   "execution_count": 47,
   "metadata": {},
   "outputs": [],
   "source": [
    "#Normalizando os registros para a feature 'dia_semana'\n",
    "datatran_original['dia_semana'] = datatran_original['dia_semana'].str.rstrip()\n",
    "datatran_original['dia_semana'].replace(to_replace = {'Sexta':'sexta-feira', 'Quinta':'quinta-feira', 'Quarta':'quarta-feira','Terça':'terça-feira','Sábado':'sábado'}, inplace= True)\n",
    "acidentes_original['dia_semana'] = acidentes_original['dia_semana'].str.rstrip()\n",
    "acidentes_original['dia_semana'].replace(to_replace = {'Sexta':'sexta-feira', 'Quinta':'quinta-feira', 'Quarta':'quarta-feira','Terça':'terça-feira','Sábado':'sábado'}, inplace= True)"
   ]
  },
  {
   "cell_type": "code",
   "execution_count": 48,
   "metadata": {},
   "outputs": [
    {
     "data": {
      "text/plain": [
       "sexta-feira      299072\n",
       "sábado           291171\n",
       "domingo          278567\n",
       "segunda-feira    254185\n",
       "quinta-feira     252354\n",
       "quarta-feira     241816\n",
       "terça-feira      234271\n",
       "Name: dia_semana, dtype: int64"
      ]
     },
     "execution_count": 48,
     "metadata": {},
     "output_type": "execute_result"
    }
   ],
   "source": [
    "datatran_original['dia_semana'].value_counts()"
   ]
  },
  {
   "cell_type": "code",
   "execution_count": 49,
   "metadata": {},
   "outputs": [
    {
     "data": {
      "text/plain": [
       "sexta-feira      640389\n",
       "sábado           628436\n",
       "domingo          620610\n",
       "segunda-feira    538312\n",
       "quinta-feira     527454\n",
       "quarta-feira     504727\n",
       "terça-feira      488627\n",
       "Name: dia_semana, dtype: int64"
      ]
     },
     "execution_count": 49,
     "metadata": {},
     "output_type": "execute_result"
    }
   ],
   "source": [
    "acidentes_original['dia_semana'].value_counts()"
   ]
  },
  {
   "cell_type": "code",
   "execution_count": 50,
   "metadata": {},
   "outputs": [],
   "source": [
    "#Normalizando os registros para a feature 'fase_dia'\n",
    "datatran_original['fase_dia'] = datatran_original['fase_dia'].str.rstrip()\n",
    "datatran_original['fase_dia'].replace(to_replace = {'Plena Noite':'Plena noite','(null)':'Não Informado'}, inplace= True)\n",
    "acidentes_original['fase_dia'] = acidentes_original['fase_dia'].str.rstrip()\n",
    "acidentes_original['fase_dia'].replace(to_replace = {'Plena Noite':'Plena noite','(null)':'Não Informado'}, inplace= True)"
   ]
  },
  {
   "cell_type": "code",
   "execution_count": 51,
   "metadata": {},
   "outputs": [
    {
     "data": {
      "text/plain": [
       "Pleno dia        1067277\n",
       "Plena noite       581236\n",
       "Anoitecer         109318\n",
       "Amanhecer          93536\n",
       "Não Informado         69\n",
       "Name: fase_dia, dtype: int64"
      ]
     },
     "execution_count": 51,
     "metadata": {},
     "output_type": "execute_result"
    }
   ],
   "source": [
    "datatran_original['fase_dia'].value_counts()"
   ]
  },
  {
   "cell_type": "code",
   "execution_count": 52,
   "metadata": {},
   "outputs": [
    {
     "data": {
      "text/plain": [
       "Pleno dia        2306486\n",
       "Plena noite      1205343\n",
       "Anoitecer         244512\n",
       "Amanhecer         192075\n",
       "Não Informado        139\n",
       "Name: fase_dia, dtype: int64"
      ]
     },
     "execution_count": 52,
     "metadata": {},
     "output_type": "execute_result"
    }
   ],
   "source": [
    "acidentes_original['fase_dia'].value_counts()"
   ]
  },
  {
   "cell_type": "code",
   "execution_count": 53,
   "metadata": {},
   "outputs": [],
   "source": [
    "#Normalizando os registros para a feature 'tipo_veiculo'\n",
    "acidentes_original['tipo_veiculo'] = acidentes_original['tipo_veiculo'].str.rstrip()\n",
    "acidentes_original['tipo_veiculo'].replace(to_replace = {'Caminhão-Trator':'Caminhão-trator','Micro-ônibus':'Microônibus', 'Não identificado':'Não Informado','Motocicletas':'Motocicleta','Semi-Reboque':'Semireboque','Carro de mão':'Carro-de-mao','Caminhão-Tanque':'Caminhão-tanque','Trator de esteiras':'Trator de esteira','(null)':'Não Informado'}, inplace= True)"
   ]
  },
  {
   "cell_type": "code",
   "execution_count": 54,
   "metadata": {},
   "outputs": [
    {
     "data": {
      "text/plain": [
       "Automóvel            1917750\n",
       "Motocicleta           445796\n",
       "Caminhão              378317\n",
       "Caminhão-trator       378245\n",
       "Caminhonete           295718\n",
       "Ônibus                157854\n",
       "Camioneta             130085\n",
       "Não Informado          75381\n",
       "Motoneta               46024\n",
       "Microônibus            39892\n",
       "Bicicleta              37122\n",
       "Utilitário             26115\n",
       "Ciclomotor              6919\n",
       "Outros                  2804\n",
       "Semireboque             2759\n",
       "Trator de rodas         2144\n",
       "Carroça                 1863\n",
       "Caminhão-tanque         1457\n",
       "Reboque                  711\n",
       "Carroça-charrete         344\n",
       "Triciclo                 326\n",
       "Charrete                 248\n",
       "Bonde / Trem             222\n",
       "Trator misto             172\n",
       "Carro-de-mao             118\n",
       "Trator de esteira         82\n",
       "Quadriciclo               30\n",
       "Trem-bonde                29\n",
       "Motor-Casa                11\n",
       "Chassi-plataforma          9\n",
       "Side-car                   8\n",
       "Name: tipo_veiculo, dtype: int64"
      ]
     },
     "execution_count": 54,
     "metadata": {},
     "output_type": "execute_result"
    }
   ],
   "source": [
    "acidentes_original['tipo_veiculo'].value_counts()"
   ]
  },
  {
   "cell_type": "code",
   "execution_count": 55,
   "metadata": {},
   "outputs": [],
   "source": [
    "#Normalizando os registros para a feature 'causa_acidente'\n",
    "datatran_original['causa_acidente'] = datatran_original['causa_acidente'].str.rstrip()\n",
    "datatran_original['causa_acidente'].replace(to_replace = {'Velocidade Incompatível':'Velocidade incompatível','Ingestão de Álcool':'Ingestão de álcool','Defeito Mecânico no Veículo':'Defeito mecânico em veículo','Condutor Dormindo':'Condutor dormindo','Pista Escorregadia':'Pista escorregadia', 'Falta de Atenção do Pedestre':'Falta de atenção do pedestre','Falta de Atenção à Condução':'Falta de atenção à condução','Ultrapassagem Indevida':'Ultrapassagem indevida','(null)':'Não Informado','Animais na Pista':'Animais na pista','Defeito na Via':'Defeito na via','Fenômenos da Natureza':'Fenômenos da natureza','Ingestão de Substâncias Psicoativas':'Ingestão de substâncias psicoativas','Mal Súbito':'Mal súbito','Restrição de Visibilidade':'Restrição de visibilidade'}, inplace= True)\n",
    "acidentes_original['causa_acidente'] = acidentes_original['causa_acidente'].str.rstrip()\n",
    "acidentes_original['causa_acidente'].replace(to_replace = {'Velocidade Incompatível':'Velocidade incompatível','Ingestão de Álcool':'Ingestão de álcool','Defeito Mecânico no Veículo':'Defeito mecânico em veículo','Condutor Dormindo':'Condutor dormindo','Pista Escorregadia':'Pista escorregadia', 'Falta de Atenção do Pedestre':'Falta de atenção do pedestre','Falta de Atenção à Condução':'Falta de atenção à condução','Ultrapassagem Indevida':'Ultrapassagem indevida','(null)':'Não Informado','Animais na Pista':'Animais na pista','Defeito na Via':'Defeito na via','Fenômenos da Natureza':'Fenômenos da natureza','Ingestão de Substâncias Psicoativas':'Ingestão de substâncias psicoativas','Mal Súbito':'Mal súbito','Restrição de Visibilidade':'Restrição de visibilidade'}, inplace= True)"
   ]
  },
  {
   "cell_type": "code",
   "execution_count": 56,
   "metadata": {},
   "outputs": [
    {
     "data": {
      "text/plain": [
       "Falta de atenção                                                                  507439\n",
       "Outras                                                                            451222\n",
       "Velocidade incompatível                                                           163062\n",
       "Não guardar distância de segurança                                                157882\n",
       "Falta de atenção à condução                                                       107548\n",
       "Ingestão de álcool                                                                 83541\n",
       "Defeito mecânico em veículo                                                        78746\n",
       "Desobediência à sinalização                                                        63685\n",
       "Animais na pista                                                                   48985\n",
       "Dormindo                                                                           40911\n",
       "Ultrapassagem indevida                                                             40903\n",
       "Desobediência às normas de trânsito pelo condutor                                  29238\n",
       "Defeito na via                                                                     28053\n",
       "Condutor dormindo                                                                  11016\n",
       "Pista escorregadia                                                                 10977\n",
       "Falta de atenção do pedestre                                                        8068\n",
       "Avarias e/ou desgaste excessivo no pneu                                             4297\n",
       "Mal súbito                                                                          2945\n",
       "Restrição de visibilidade                                                           2381\n",
       "Objeto estático sobre o leito carroçável                                            2182\n",
       "Carga excessiva e/ou mal acondicionada                                              1590\n",
       "Fenômenos da natureza                                                               1199\n",
       "Sinalização da via insuficiente ou inadequada                                       1184\n",
       "Agressão Externa                                                                    1075\n",
       "Desobediência às normas de trânsito pelo pedestre                                   1051\n",
       "Ingestão de álcool e/ou substâncias psicoativas pelo pedestre                       1047\n",
       "Deficiência ou não Acionamento do Sistema de Iluminação/Sinalização do Veículo       766\n",
       "Ingestão de substâncias psicoativas                                                  330\n",
       "Reação tardia ou ineficiente do condutor                                              14\n",
       "Manobra de mudança de faixa                                                           13\n",
       "Transitar na contramão                                                                11\n",
       "Ausência de reação do condutor                                                        10\n",
       "Condutor deixou de manter distância do veículo da frente                              10\n",
       "Ingestão de álcool pelo condutor                                                       7\n",
       "Acessar a via sem observar a presença dos outros veículos                              7\n",
       "Demais falhas mecânicas ou elétricas                                                   5\n",
       "Desrespeitar a preferência no cruzamento                                               4\n",
       "Conversão proibida                                                                     4\n",
       "Condutor desrespeitou a iluminação vermelha do semáforo                                3\n",
       "Falta de acostamento                                                                   2\n",
       "Transitar no acostamento                                                               2\n",
       "Pedestre andava na pista                                                               2\n",
       "Demais falhas na via                                                                   2\n",
       "Mal súbito do condutor                                                                 2\n",
       "Não Informado                                                                          2\n",
       "Entrada inopinada do pedestre                                                          2\n",
       "Chuva                                                                                  2\n",
       "Trafegar com motocicleta (ou similar) entre as faixas                                  1\n",
       "Ausência de sinalização                                                                1\n",
       "Afundamento ou ondulação no pavimento                                                  1\n",
       "Acumulo de óleo sobre o pavimento                                                      1\n",
       "Acostamento em desnível                                                                1\n",
       "Acumulo de água sobre o pavimento                                                      1\n",
       "Condutor usando celular                                                                1\n",
       "Ingestão de álcool ou de substâncias psicoativas pelo pedestre                         1\n",
       "Pedestre cruzava a pista fora da faixa                                                 1\n",
       "Name: causa_acidente, dtype: int64"
      ]
     },
     "execution_count": 56,
     "metadata": {},
     "output_type": "execute_result"
    }
   ],
   "source": [
    "datatran_original['causa_acidente'].value_counts()"
   ]
  },
  {
   "cell_type": "code",
   "execution_count": 57,
   "metadata": {},
   "outputs": [
    {
     "data": {
      "text/plain": [
       "Falta de atenção                                                                  1125827\n",
       "Outras                                                                             880866\n",
       "Não guardar distância de segurança                                                 402025\n",
       "Velocidade incompatível                                                            300259\n",
       "Falta de atenção à condução                                                        255871\n",
       "Ingestão de álcool                                                                 179146\n",
       "Desobediência à sinalização                                                        152937\n",
       "Defeito mecânico em veículo                                                        148540\n",
       "Ultrapassagem indevida                                                             115325\n",
       "Desobediência às normas de trânsito pelo condutor                                   79067\n",
       "Animais na pista                                                                    75431\n",
       "Dormindo                                                                            73628\n",
       "Defeito na via                                                                      50801\n",
       "Condutor dormindo                                                                   23576\n",
       "Pista escorregadia                                                                  22627\n",
       "Falta de atenção do pedestre                                                        19152\n",
       "Avarias e/ou desgaste excessivo no pneu                                              8942\n",
       "Restrição de visibilidade                                                            6021\n",
       "Mal súbito                                                                           5603\n",
       "Objeto estático sobre o leito carroçável                                             4741\n",
       "Sinalização da via insuficiente ou inadequada                                        2965\n",
       "Desobediência às normas de trânsito pelo pedestre                                    2550\n",
       "Carga excessiva e/ou mal acondicionada                                               2549\n",
       "Ingestão de álcool e/ou substâncias psicoativas pelo pedestre                        2341\n",
       "Fenômenos da natureza                                                                2328\n",
       "Agressão Externa                                                                     2233\n",
       "Deficiência ou não Acionamento do Sistema de Iluminação/Sinalização do Veículo       2153\n",
       "Ingestão de substâncias psicoativas                                                   753\n",
       "Condutor deixou de manter distância do veículo da frente                               38\n",
       "Reação tardia ou ineficiente do condutor                                               37\n",
       "Manobra de mudança de faixa                                                            35\n",
       "Transitar na contramão                                                                 33\n",
       "Ausência de reação do condutor                                                         25\n",
       "Acessar a via sem observar a presença dos outros veículos                              20\n",
       "Ingestão de álcool pelo condutor                                                       17\n",
       "Conversão proibida                                                                     14\n",
       "Demais falhas mecânicas ou elétricas                                                   10\n",
       "Desrespeitar a preferência no cruzamento                                                8\n",
       "Condutor desrespeitou a iluminação vermelha do semáforo                                 7\n",
       "Entrada inopinada do pedestre                                                           6\n",
       "Não Informado                                                                           6\n",
       "Pedestre andava na pista                                                                5\n",
       "Ausência de sinalização                                                                 4\n",
       "Acumulo de óleo sobre o pavimento                                                       4\n",
       "Trafegar com motocicleta (ou similar) entre as faixas                                   4\n",
       "Falta de acostamento                                                                    4\n",
       "Demais falhas na via                                                                    4\n",
       "Transitar no acostamento                                                                3\n",
       "Chuva                                                                                   3\n",
       "Condutor usando celular                                                                 2\n",
       "Pedestre cruzava a pista fora da faixa                                                  2\n",
       "Ingestão de álcool ou de substâncias psicoativas pelo pedestre                          2\n",
       "Mal súbito do condutor                                                                  2\n",
       "Acumulo de água sobre o pavimento                                                       1\n",
       "Acostamento em desnível                                                                 1\n",
       "Afundamento ou ondulação no pavimento                                                   1\n",
       "Name: causa_acidente, dtype: int64"
      ]
     },
     "execution_count": 57,
     "metadata": {},
     "output_type": "execute_result"
    }
   ],
   "source": [
    "acidentes_original['causa_acidente'].value_counts()"
   ]
  },
  {
   "cell_type": "code",
   "execution_count": 58,
   "metadata": {},
   "outputs": [],
   "source": [
    "#Normalizando os registros para a feature 'tipo_acidente'\n",
    "datatran_original['tipo_acidente'] = datatran_original['tipo_acidente'].str.rstrip()\n",
    "datatran_original['tipo_acidente'].replace(to_replace = {'Atropelamento de Animal':'Atropelamento de animal','Atropelamento de Pedestre':'Atropelamento de pessoa','Colisão com objeto fixo':'Colisão com objeto estático','Colisão com objeto móvel':'Colisão com objeto em movimento','Colisão Transversal':'Colisão transversal','Danos Eventuais':'Danos eventuais','Derramamento de Carga':'Derramamento de carga','Saída de Pista':'Saída de pista'}, inplace= True)\n",
    "acidentes_original['tipo_acidente'] = acidentes_original['tipo_acidente'].str.rstrip()\n",
    "acidentes_original['tipo_acidente'].replace(to_replace = {'Atropelamento de Animal':'Atropelamento de animal','Atropelamento de Pedestre':'Atropelamento de pessoa','Colisão com objeto fixo':'Colisão com objeto estático','Colisão com objeto móvel':'Colisão com objeto em movimento','Colisão Transversal':'Colisão transversal','Danos Eventuais':'Danos eventuais','Derramamento de Carga':'Derramamento de carga','Saída de Pista':'Saída de pista'}, inplace= True)"
   ]
  },
  {
   "cell_type": "code",
   "execution_count": 59,
   "metadata": {},
   "outputs": [
    {
     "data": {
      "text/plain": [
       "Colisão traseira                              487683\n",
       "Colisão lateral                               288629\n",
       "Saída de pista                                232918\n",
       "Colisão transversal                           191836\n",
       "Colisão com objeto estático                   115849\n",
       "Capotamento                                    88873\n",
       "Tombamento                                     85857\n",
       "Colisão frontal                                76809\n",
       "Atropelamento de pessoa                        57146\n",
       "Queda de motocicleta / bicicleta / veículo     52459\n",
       "Saída de leito carroçável                      47741\n",
       "Atropelamento de animal                        41849\n",
       "Colisão com bicicleta                          18548\n",
       "Colisão com objeto em movimento                16506\n",
       "Queda de ocupante de veículo                   12721\n",
       "Incêndio                                       11720\n",
       "Danos eventuais                                10664\n",
       "Derramamento de carga                           9599\n",
       "Engavetamento                                   4004\n",
       "Colisão com objeto                                17\n",
       "Colisão lateral sentido oposto                     5\n",
       "Colisão lateral mesmo sentido                      3\n",
       "Name: tipo_acidente, dtype: int64"
      ]
     },
     "execution_count": 59,
     "metadata": {},
     "output_type": "execute_result"
    }
   ],
   "source": [
    "datatran_original['tipo_acidente'].value_counts()"
   ]
  },
  {
   "cell_type": "code",
   "execution_count": 60,
   "metadata": {},
   "outputs": [
    {
     "data": {
      "text/plain": [
       "Colisão traseira                              1255205\n",
       "Colisão lateral                                677860\n",
       "Colisão transversal                            476446\n",
       "Saída de pista                                 348736\n",
       "Colisão frontal                                253849\n",
       "Colisão com objeto estático                    165247\n",
       "Capotamento                                    153997\n",
       "Atropelamento de pessoa                        124157\n",
       "Tombamento                                     119035\n",
       "Saída de leito carroçável                       86390\n",
       "Queda de motocicleta / bicicleta / veículo      71100\n",
       "Atropelamento de animal                         60761\n",
       "Colisão com bicicleta                           39898\n",
       "Colisão com objeto em movimento                 32735\n",
       "Engavetamento                                   19684\n",
       "Queda de ocupante de veículo                    18463\n",
       "Danos eventuais                                 16306\n",
       "Incêndio                                        15957\n",
       "Derramamento de carga                           12668\n",
       "Colisão com objeto                                 38\n",
       "Colisão lateral sentido oposto                     15\n",
       "Colisão lateral mesmo sentido                       8\n",
       "Name: tipo_acidente, dtype: int64"
      ]
     },
     "execution_count": 60,
     "metadata": {},
     "output_type": "execute_result"
    }
   ],
   "source": [
    "acidentes_original['tipo_acidente'].value_counts()"
   ]
  },
  {
   "cell_type": "code",
   "execution_count": 61,
   "metadata": {},
   "outputs": [],
   "source": [
    "#Normalizando os registros para a feature 'classificacao_acidente'\n",
    "datatran_original['classificacao_acidente'] = datatran_original['classificacao_acidente'].str.rstrip()\n",
    "datatran_original['classificacao_acidente'] = '0'\n",
    "datatran_original.loc[(datatran_original['feridos_leves'] == 0) & (datatran_original['feridos_graves'] == 0) & (datatran_original['mortos'] == 0), 'classificacao_acidente'] = 'Sem Vítimas'\n",
    "datatran_original.loc[datatran_original['mortos'] > 0, 'classificacao_acidente'] = 'Com Vítimas Fatais'\n",
    "datatran_original.loc[(datatran_original['feridos_leves'] > 0) & (datatran_original['feridos_graves'] > 0) & (datatran_original['mortos'] == 0), 'classificacao_acidente'] = 'Com Vítimas Feridas'\n",
    "datatran_original.loc[(datatran_original['feridos_leves'] > 0) & (datatran_original['mortos'] == 0), 'classificacao_acidente'] = 'Com Vítimas Feridas'\n",
    "datatran_original.loc[(datatran_original['feridos_graves'] > 0) & (datatran_original['mortos'] == 0), 'classificacao_acidente'] = 'Com Vítimas Feridas'"
   ]
  },
  {
   "cell_type": "code",
   "execution_count": 62,
   "metadata": {},
   "outputs": [
    {
     "data": {
      "text/plain": [
       "Sem Vítimas            987910\n",
       "Com Vítimas Feridas    781883\n",
       "Com Vítimas Fatais      81643\n",
       "Name: classificacao_acidente, dtype: int64"
      ]
     },
     "execution_count": 62,
     "metadata": {},
     "output_type": "execute_result"
    }
   ],
   "source": [
    "datatran_original['classificacao_acidente'].value_counts()"
   ]
  },
  {
   "cell_type": "code",
   "execution_count": 63,
   "metadata": {},
   "outputs": [],
   "source": [
    "#Normalizando os registros para a feature 'classificacao_acidente'\n",
    "acidentes_original['classificacao_acidente'] = acidentes_original['classificacao_acidente'].str.rstrip()\n",
    "acidentes_original['classificacao_acidente'] = '0'\n",
    "acidentes_original.loc[(acidentes_original['feridos_leves'] == 0) & (acidentes_original['feridos_graves'] == 0) & (acidentes_original['mortos'] == 0), 'classificacao_acidente'] = 'Sem Vítimas'\n",
    "acidentes_original.loc[acidentes_original['mortos'] > 0, 'classificacao_acidente'] = 'Com Vítimas Fatais'\n",
    "acidentes_original.loc[(acidentes_original['feridos_leves'] > 0) & (acidentes_original['feridos_graves'] > 0) & (acidentes_original['mortos'] == 0), 'classificacao_acidente'] = 'Com Vítimas Feridas'\n",
    "acidentes_original.loc[(acidentes_original['feridos_leves'] > 0) & (acidentes_original['mortos'] == 0), 'classificacao_acidente'] = 'Com Vítimas Feridas'\n",
    "acidentes_original.loc[(acidentes_original['feridos_graves'] > 0) & (acidentes_original['mortos'] == 0), 'classificacao_acidente'] = 'Com Vítimas Feridas'"
   ]
  },
  {
   "cell_type": "code",
   "execution_count": 64,
   "metadata": {},
   "outputs": [
    {
     "data": {
      "text/plain": [
       "Sem Vítimas            2626794\n",
       "Com Vítimas Feridas    1226404\n",
       "Com Vítimas Fatais       95357\n",
       "Name: classificacao_acidente, dtype: int64"
      ]
     },
     "execution_count": 64,
     "metadata": {},
     "output_type": "execute_result"
    }
   ],
   "source": [
    "acidentes_original['classificacao_acidente'].value_counts()"
   ]
  },
  {
   "cell_type": "code",
   "execution_count": 65,
   "metadata": {},
   "outputs": [],
   "source": [
    "#Normalizando os registros para a feature 'condicao_metereologica'\n",
    "datatran_original['condicao_metereologica'] = datatran_original['condicao_metereologica'].str.rstrip()\n",
    "datatran_original['condicao_metereologica'].replace(to_replace = {'Ceu Claro':'Céu Claro','Ignorada':'Não Informado','Ignorado':'Não Informado','(null)':'Não Informado','Nevoeiro/Neblina':'Nevoeiro/neblina','Garoa/Chuvisco':'Garoa/chuvisco'}, inplace= True)\n",
    "acidentes_original['condicao_metereologica'] = acidentes_original['condicao_metereologica'].str.rstrip()\n",
    "acidentes_original['condicao_metereologica'].replace(to_replace = {'Ceu Claro':'Céu Claro','Ignorada':'Não Informado','Ignorado':'Não Informado','(null)':'Não Informado','Nevoeiro/Neblina':'Nevoeiro/neblina','Garoa/Chuvisco':'Garoa/chuvisco'}, inplace= True)"
   ]
  },
  {
   "cell_type": "code",
   "execution_count": 66,
   "metadata": {},
   "outputs": [
    {
     "data": {
      "text/plain": [
       "Céu Claro           916776\n",
       "Nublado             333835\n",
       "Chuva               307282\n",
       "Sol                 226906\n",
       "Não Informado        32813\n",
       "Nevoeiro/neblina     18655\n",
       "Garoa/chuvisco        9854\n",
       "Vento                 4906\n",
       "Granizo                301\n",
       "Neve                   108\n",
       "Name: condicao_metereologica, dtype: int64"
      ]
     },
     "execution_count": 66,
     "metadata": {},
     "output_type": "execute_result"
    }
   ],
   "source": [
    "datatran_original['condicao_metereologica'].value_counts()"
   ]
  },
  {
   "cell_type": "code",
   "execution_count": 67,
   "metadata": {},
   "outputs": [
    {
     "data": {
      "text/plain": [
       "Céu Claro           1993250\n",
       "Nublado              704893\n",
       "Chuva                608853\n",
       "Sol                  500433\n",
       "Não Informado         67688\n",
       "Nevoeiro/neblina      39882\n",
       "Garoa/chuvisco        22809\n",
       "Vento                  9986\n",
       "Granizo                 567\n",
       "Neve                    194\n",
       "Name: condicao_metereologica, dtype: int64"
      ]
     },
     "execution_count": 67,
     "metadata": {},
     "output_type": "execute_result"
    }
   ],
   "source": [
    "acidentes_original['condicao_metereologica'].value_counts()"
   ]
  },
  {
   "cell_type": "markdown",
   "metadata": {},
   "source": [
    "Exploração da base de dados"
   ]
  },
  {
   "cell_type": "code",
   "execution_count": 68,
   "metadata": {},
   "outputs": [
    {
     "name": "stdout",
     "output_type": "stream",
     "text": [
      "Acidentes no Brasil (2007 a 2020): 1851436\n"
     ]
    }
   ],
   "source": [
    "#Processamento dos dados de acidentes\n",
    "Quantidade_acidentes = datatran_original.shape[0]\n",
    "print(\"Acidentes no Brasil (2007 a 2020): \" + str(Quantidade_acidentes))"
   ]
  },
  {
   "cell_type": "code",
   "execution_count": 71,
   "metadata": {},
   "outputs": [
    {
     "name": "stdout",
     "output_type": "stream",
     "text": [
      "Acidentes por ano no Brasil (2007 a 2020): data_inversa\n",
      "2007    127675\n",
      "2008    141043\n",
      "2009    158646\n",
      "2010    183469\n",
      "2011    192326\n",
      "2012    184568\n",
      "2013    186748\n",
      "2014    169201\n",
      "2015    122161\n",
      "2016     96358\n",
      "2017     89417\n",
      "2018     69181\n",
      "2019     67351\n",
      "2020     63292\n",
      "Name: id, dtype: int64\n"
     ]
    }
   ],
   "source": [
    "datatran_original['data_inversa'] = datatran_original.data_inversa.astype('datetime64')\n",
    "Acidentes_por_ano = datatran_original.groupby(datatran_original['data_inversa'].dt.strftime('%Y'))['id'].count()\n",
    "print(\"Acidentes por ano no Brasil (2007 a 2020): \" + str(Acidentes_por_ano))"
   ]
  },
  {
   "cell_type": "code",
   "execution_count": 72,
   "metadata": {},
   "outputs": [
    {
     "data": {
      "image/png": "[encoded data removed]",
      "text/plain": [
       "<Figure size 720x432 with 1 Axes>"
      ]
     },
     "metadata": {
      "needs_background": "light"
     },
     "output_type": "display_data"
    }
   ],
   "source": [
    "ax = Acidentes_por_ano.plot(kind='bar', figsize=(10,6), fontsize=13)\n",
    "ax.set_alpha(0.8)\n",
    "ax.set_title(\"Acidentes por ano no Brasil (2007 a 2020)\", fontsize=22)\n",
    "ax.set_ylabel(\"Quantidade\", fontsize=15)\n",
    "ax.set_xlabel(\"Ano\", fontsize=15)\n",
    "plt.show()"
   ]
  },
  {
   "cell_type": "code",
   "execution_count": 73,
   "metadata": {},
   "outputs": [
    {
     "name": "stdout",
     "output_type": "stream",
     "text": [
      "Feridos em acidentes no Brasil (2007 a 2020): 1266595\n"
     ]
    }
   ],
   "source": [
    "Total_de_feridos = datatran_original['feridos'].sum()\n",
    "print(\"Feridos em acidentes no Brasil (2007 a 2020): \" + str(Total_de_feridos))"
   ]
  },
  {
   "cell_type": "code",
   "execution_count": 74,
   "metadata": {},
   "outputs": [
    {
     "name": "stdout",
     "output_type": "stream",
     "text": [
      "Feridos em acidentes por ano no Brasil (2007 a 2020):       feridos\n",
      "Ano          \n",
      "2007    81307\n",
      "2008    84639\n",
      "2009    93518\n",
      "2010   103219\n",
      "2011   106827\n",
      "2012   104468\n",
      "2013   103810\n",
      "2014   100832\n",
      "2015    90251\n",
      "2016    86667\n",
      "2017    84204\n",
      "2018    76579\n",
      "2019    79004\n",
      "2020    71270\n"
     ]
    }
   ],
   "source": [
    "Feridos_por_ano = datatran_original.groupby([datatran_original['data_inversa'].dt.year.rename('Ano')]).agg({'feridos': 'sum'})\n",
    "print(\"Feridos em acidentes por ano no Brasil (2007 a 2020): \" + str(Feridos_por_ano))"
   ]
  },
  {
   "cell_type": "code",
   "execution_count": 75,
   "metadata": {},
   "outputs": [
    {
     "data": {
      "image/png": "[encoded data removed]",
      "text/plain": [
       "<Figure size 720x432 with 1 Axes>"
      ]
     },
     "metadata": {
      "needs_background": "light"
     },
     "output_type": "display_data"
    }
   ],
   "source": [
    "ax = Feridos_por_ano.plot(kind='bar', figsize=(10,6), fontsize=13);\n",
    "ax.set_alpha(0.8)\n",
    "ax.set_title(\"Feridos em acidentes por ano no Brasil (2007 a 2020)\", fontsize=22)\n",
    "ax.set_ylabel(\"Quantidade\", fontsize=15);\n",
    "plt.show()"
   ]
  },
  {
   "cell_type": "code",
   "execution_count": 76,
   "metadata": {},
   "outputs": [
    {
     "name": "stdout",
     "output_type": "stream",
     "text": [
      "Mortos em acidentes no Brasil (2007 a 2020): 99010\n"
     ]
    }
   ],
   "source": [
    "Total_de_mortos = datatran_original['mortos'].sum()\n",
    "print(\"Mortos em acidentes no Brasil (2007 a 2020): \" + str(Total_de_mortos))"
   ]
  },
  {
   "cell_type": "code",
   "execution_count": 78,
   "metadata": {},
   "outputs": [
    {
     "name": "stdout",
     "output_type": "stream",
     "text": [
      "Mortos em acidentes por ano no Brasil (2007 a 2020):       mortos\n",
      "Ano         \n",
      "2007    6742\n",
      "2008    6914\n",
      "2009    7341\n",
      "2010    8623\n",
      "2011    8675\n",
      "2012    8663\n",
      "2013    8426\n",
      "2014    8234\n",
      "2015    6867\n",
      "2016    6398\n",
      "2017    6244\n",
      "2018    5270\n",
      "2019    5331\n",
      "2020    5282\n"
     ]
    }
   ],
   "source": [
    "Mortos_por_ano = datatran_original.groupby([datatran_original['data_inversa'].dt.year.rename('Ano')]).agg({'mortos': 'sum'})\n",
    "print(\"Mortos em acidentes por ano no Brasil (2007 a 2020): \" + str(Mortos_por_ano))"
   ]
  },
  {
   "cell_type": "code",
   "execution_count": 79,
   "metadata": {},
   "outputs": [
    {
     "data": {
      "image/png": "[encoded data removed]",
      "text/plain": [
       "<Figure size 720x432 with 1 Axes>"
      ]
     },
     "metadata": {
      "needs_background": "light"
     },
     "output_type": "display_data"
    }
   ],
   "source": [
    "ax = Mortos_por_ano.plot(kind='bar', figsize=(10,6), fontsize=13);\n",
    "ax.set_alpha(0.8)\n",
    "ax.set_title(\"Mortos em acidentes por ano no Brasil (2007 a 2020)\", fontsize=22)\n",
    "ax.set_ylabel(\"Quantidade\", fontsize=15);\n",
    "plt.show()"
   ]
  },
  {
   "cell_type": "code",
   "execution_count": 80,
   "metadata": {},
   "outputs": [
    {
     "name": "stdout",
     "output_type": "stream",
     "text": [
      "Envolvidos em acidentes no Brasil (2007 a 2020): \n",
      " Pessoas: 4046236\n",
      " Veículos envolvidos: 3197540\n"
     ]
    }
   ],
   "source": [
    "Quantidade_pessoas = datatran_original['pessoas'].sum()\n",
    "Quantidade_veiculos = datatran_original['veiculos'].sum()\n",
    "print(\"Envolvidos em acidentes no Brasil (2007 a 2020): \\n Pessoas: \" + str(Quantidade_pessoas) + \"\\n \" + \"Veículos envolvidos: \" + str(Quantidade_veiculos))"
   ]
  },
  {
   "cell_type": "code",
   "execution_count": 81,
   "metadata": {},
   "outputs": [
    {
     "name": "stdout",
     "output_type": "stream",
     "text": [
      "Pessoas envolvidas em acidentes por ano no Brasil (2007 a 2020):       pessoas\n",
      "Ano          \n",
      "2007   268318\n",
      "2008   298804\n",
      "2009   337142\n",
      "2010   395395\n",
      "2011   412283\n",
      "2012   396912\n",
      "2013   405820\n",
      "2014   368505\n",
      "2015   269052\n",
      "2016   216251\n",
      "2017   204071\n",
      "2018   164564\n",
      "2019   162042\n",
      "2020   147077\n",
      "Veículos envolvidos em acidentes por ano no Brasil (2007 a 2020):       veiculos\n",
      "Ano           \n",
      "2007    215401\n",
      "2008    242719\n",
      "2009    274666\n",
      "2010    321445\n",
      "2011    339334\n",
      "2012    328162\n",
      "2013    333039\n",
      "2014    301417\n",
      "2015    208887\n",
      "2016    158102\n",
      "2017    144747\n",
      "2018    114289\n",
      "2019    111891\n",
      "2020    103441\n"
     ]
    }
   ],
   "source": [
    "Quantidade_pessoas_por_ano = datatran_original.groupby([datatran_original['data_inversa'].dt.year.rename('Ano')]).agg({'pessoas': 'sum'})\n",
    "print(\"Pessoas envolvidas em acidentes por ano no Brasil (2007 a 2020): \" + str(Quantidade_pessoas_por_ano))\n",
    "Quantidade_veiculos_por_ano = datatran_original.groupby([datatran_original['data_inversa'].dt.year.rename('Ano')]).agg({'veiculos': 'sum'})\n",
    "print(\"Veículos envolvidos em acidentes por ano no Brasil (2007 a 2020): \" + str(Quantidade_veiculos_por_ano))"
   ]
  },
  {
   "cell_type": "code",
   "execution_count": 82,
   "metadata": {},
   "outputs": [
    {
     "name": "stdout",
     "output_type": "stream",
     "text": [
      "Estado físico dos envolvidos no Brasil (2007 a 2020): estado_fisico\n",
      "Ileso            2458729\n",
      "Lesões Graves     317662\n",
      "Lesões Leves      908742\n",
      "Morto              95357\n",
      "Não Informado     168065\n",
      "dtype: int64\n"
     ]
    }
   ],
   "source": [
    "Estado_fisico = acidentes_original.groupby(['estado_fisico']).size()\n",
    "print(\"Estado físico dos envolvidos no Brasil (2007 a 2020): \" + str(Estado_fisico))"
   ]
  },
  {
   "cell_type": "code",
   "execution_count": 83,
   "metadata": {},
   "outputs": [
    {
     "data": {
      "image/png": "[encoded data removed]",
      "text/plain": [
       "<Figure size 720x432 with 1 Axes>"
      ]
     },
     "metadata": {
      "needs_background": "light"
     },
     "output_type": "display_data"
    }
   ],
   "source": [
    "ax = Estado_fisico.plot(kind='bar', figsize=(10,6), fontsize=13);\n",
    "ax.set_alpha(0.8)\n",
    "ax.set_title(\"Estado físico dos envolvidos em acidentes no Brasil (2007 a 2020)\", fontsize=22)\n",
    "ax.set_ylabel(\"Quantidade\", fontsize=15);\n",
    "ax.set_xlabel(\"Estado Físico\", fontsize=15);\n",
    "plt.show()"
   ]
  },
  {
   "cell_type": "code",
   "execution_count": 85,
   "metadata": {},
   "outputs": [
    {
     "name": "stdout",
     "output_type": "stream",
     "text": [
      "Estado físico dos envolvidos por ano no Brasil (2007 a 2020):                         id\n",
      "Ano  estado_fisico        \n",
      "2007 Ileso          174298\n",
      "     Lesões Graves   23790\n",
      "     Lesões Leves    57810\n",
      "     Morto            7057\n",
      "     Não Informado    5948\n",
      "2008 Ileso          196621\n",
      "     Lesões Graves   24518\n",
      "     Lesões Leves    60152\n",
      "     Morto            6948\n",
      "     Não Informado   10613\n",
      "2009 Ileso          223309\n",
      "     Lesões Graves   26067\n",
      "     Lesões Leves    67449\n",
      "     Morto            7341\n",
      "     Não Informado   12959\n",
      "2010 Ileso          268277\n",
      "     Lesões Graves   27965\n",
      "     Lesões Leves    75239\n",
      "     Morto            8622\n",
      "     Não Informado   15260\n",
      "2011 Ileso          280154\n",
      "     Lesões Graves   29045\n",
      "     Lesões Leves    77761\n",
      "     Morto            8675\n",
      "     Não Informado   16592\n",
      "2012 Ileso          267940\n",
      "     Lesões Graves   28283\n",
      "     Lesões Leves    76172\n",
      "     Morto            8661\n",
      "     Não Informado   15803\n",
      "2013 Ileso          276231\n",
      "     Lesões Graves   26949\n",
      "     Lesões Leves    76833\n",
      "     Morto            8421\n",
      "     Não Informado   17329\n",
      "2014 Ileso          243177\n",
      "     Lesões Graves   26206\n",
      "     Lesões Leves    74526\n",
      "     Morto            8222\n",
      "     Não Informado   16153\n",
      "2015 Ileso          110616\n",
      "     Lesões Graves   12918\n",
      "     Lesões Leves    39828\n",
      "     Morto            3883\n",
      "     Não Informado    7937\n",
      "2016 Ileso          112199\n",
      "     Lesões Graves   19953\n",
      "     Lesões Leves    63883\n",
      "     Morto            5400\n",
      "     Não Informado   10812\n",
      "2017 Ileso          103131\n",
      "     Lesões Graves   18679\n",
      "     Lesões Leves    65525\n",
      "     Morto            6244\n",
      "     Não Informado   10491\n",
      "2018 Ileso           73744\n",
      "     Lesões Graves   17691\n",
      "     Lesões Leves    58888\n",
      "     Morto            5270\n",
      "     Não Informado    8970\n",
      "2019 Ileso           68494\n",
      "     Lesões Graves   18565\n",
      "     Lesões Leves    60439\n",
      "     Morto            5331\n",
      "     Não Informado    9212\n",
      "2020 Ileso           60538\n",
      "     Lesões Graves   17033\n",
      "     Lesões Leves    54237\n",
      "     Morto            5282\n",
      "     Não Informado    9986\n"
     ]
    }
   ],
   "source": [
    "acidentes_original['data_inversa'] = acidentes_original.data_inversa.astype('datetime64')\n",
    "Estado_fisico_por_ano = acidentes_original.groupby([acidentes_original['data_inversa'].dt.year.rename('Ano'), acidentes_original['estado_fisico']]).agg({'id': 'count'})\n",
    "print(\"Estado físico dos envolvidos por ano no Brasil (2007 a 2020): \" + str(Estado_fisico_por_ano))"
   ]
  },
  {
   "cell_type": "code",
   "execution_count": 87,
   "metadata": {},
   "outputs": [
    {
     "data": {
      "image/png": "[encoded data removed]",
      "text/plain": [
       "<Figure size 1080x504 with 1 Axes>"
      ]
     },
     "metadata": {
      "needs_background": "light"
     },
     "output_type": "display_data"
    }
   ],
   "source": [
    "fig, ax = plt.subplots(figsize=(15,7))\n",
    "acidentes_original.groupby([acidentes_original['data_inversa'].dt.year.rename('Ano'), acidentes_original['estado_fisico']]).agg({'id': 'count'}).unstack().plot(kind='bar', ax=ax)\n",
    "ax.set_alpha(0.8)\n",
    "ax.set_title(\"Estado físico dos envolvidos em acidentes por ano no Brasil (2007 a 2020)\", fontsize=22)\n",
    "ax.set_ylabel(\"Quantidade\", fontsize=15);\n",
    "ax.set_xlabel(\"Ano\", fontsize=15);\n",
    "plt.show()"
   ]
  },
  {
   "cell_type": "code",
   "execution_count": 89,
   "metadata": {},
   "outputs": [
    {
     "data": {
      "image/png": "[encoded data removed]",
      "text/plain": [
       "<Figure size 1080x504 with 1 Axes>"
      ]
     },
     "metadata": {
      "needs_background": "light"
     },
     "output_type": "display_data"
    }
   ],
   "source": [
    "fig, ax = plt.subplots(figsize=(15,7))\n",
    "acidentes_original.groupby([acidentes_original['data_inversa'].dt.year.rename('Ano'), acidentes_original['estado_fisico']]).agg({'id': 'count'}).unstack().plot(ax=ax)\n",
    "ax.set_alpha(0.8)\n",
    "ax.set_title(\"Estado físico dos envolvidos em acidentes por ano no Brasil (2007 a 2020)\", fontsize=22)\n",
    "ax.set_ylabel(\"Quantidade\", fontsize=15);\n",
    "ax.set_xlabel(\"Ano\", fontsize=15);\n",
    "plt.show()"
   ]
  },
  {
   "cell_type": "code",
   "execution_count": 90,
   "metadata": {},
   "outputs": [
    {
     "name": "stdout",
     "output_type": "stream",
     "text": [
      "Classificação de acidentes no Brasil (2007 a 2020): classificacao_acidente\n",
      "Com Vítimas Fatais      81643\n",
      "Com Vítimas Feridas    781883\n",
      "Sem Vítimas            987910\n",
      "dtype: int64\n"
     ]
    }
   ],
   "source": [
    "Classificacao_de_acidentes = datatran_original.groupby(['classificacao_acidente']).size()\n",
    "print(\"Classificação de acidentes no Brasil (2007 a 2020): \" + str(Classificacao_de_acidentes))"
   ]
  },
  {
   "cell_type": "code",
   "execution_count": 91,
   "metadata": {},
   "outputs": [
    {
     "name": "stdout",
     "output_type": "stream",
     "text": [
      "% Classificação de acidentes no Brasil (2007 a 2020): \n",
      " Com Vítimas Fatais 4.41\n",
      " Com Vítimas Feridas 42.23\n",
      " Sem Vítimas 53.36\n",
      " Ignorado 0.00\n",
      " Nullos 0.00\n",
      " Zero 0.00\n"
     ]
    }
   ],
   "source": [
    "perc_cvfat = (datatran_original['id'][datatran_original['classificacao_acidente'] == 'Com Vítimas Fatais'].count() / Quantidade_acidentes) *100\n",
    "perc_cvfer = (datatran_original['id'][datatran_original['classificacao_acidente'] == 'Com Vítimas Feridas'].count() / Quantidade_acidentes) *100\n",
    "perc_sviti = (datatran_original['id'][datatran_original['classificacao_acidente'] == 'Sem Vítimas'].count() / Quantidade_acidentes) *100\n",
    "perc_cigno = (datatran_original['id'][datatran_original['classificacao_acidente'] == 'Ignorado'].count() / Quantidade_acidentes) *100\n",
    "perc_null = (datatran_original['id'][datatran_original['classificacao_acidente'] == None].count() / Quantidade_acidentes) *100\n",
    "perc_zero = (datatran_original['id'][datatran_original['classificacao_acidente'] == '0'].count() / Quantidade_acidentes) *100\n",
    "print(\"% Classificação de acidentes no Brasil (2007 a 2020): \\n Com Vítimas Fatais \" + \"%.2f\" % perc_cvfat + \"\\n Com Vítimas Feridas \" + \"%.2f\" % perc_cvfer + \"\\n Sem Vítimas \" + \"%.2f\" % perc_sviti)\n",
    "print(\" Ignorado \" + \"%.2f\" % perc_cigno + \"\\n Nullos \" + \"%.2f\" % perc_null + \"\\n Zero \" + \"%.2f\" % perc_zero)"
   ]
  },
  {
   "cell_type": "code",
   "execution_count": 92,
   "metadata": {
    "scrolled": true
   },
   "outputs": [
    {
     "data": {
      "image/png": "[encoded data removed]",
      "text/plain": [
       "<Figure size 720x432 with 1 Axes>"
      ]
     },
     "metadata": {
      "needs_background": "light"
     },
     "output_type": "display_data"
    }
   ],
   "source": [
    "ax = Classificacao_de_acidentes.plot(kind='bar', figsize=(10,6), fontsize=13);\n",
    "ax.set_alpha(0.8)\n",
    "ax.set_title(\"Classificação de acidentes no Brasil (2007 a 2020)\", fontsize=22)\n",
    "ax.set_ylabel(\"Quantidade\", fontsize=15);\n",
    "ax.set_xlabel(\"Tipo de Acidente\", fontsize=15);\n",
    "plt.show()"
   ]
  },
  {
   "cell_type": "code",
   "execution_count": 93,
   "metadata": {},
   "outputs": [
    {
     "name": "stdout",
     "output_type": "stream",
     "text": [
      "Classificação de acidentes por ano no Brasil (2007 a 2020):                                  id\n",
      "Ano  classificacao_acidente        \n",
      "2007 Com Vítimas Fatais        5440\n",
      "     Com Vítimas Feridas      46362\n",
      "     Sem Vítimas              75873\n",
      "2008 Com Vítimas Fatais        5592\n",
      "     Com Vítimas Feridas      49630\n",
      "     Sem Vítimas              85821\n",
      "2009 Com Vítimas Fatais        5945\n",
      "     Com Vítimas Feridas      54903\n",
      "     Sem Vítimas              97798\n",
      "2010 Com Vítimas Fatais        7083\n",
      "     Com Vítimas Feridas      62276\n",
      "     Sem Vítimas             114110\n",
      "2011 Com Vítimas Fatais        7158\n",
      "     Com Vítimas Feridas      65258\n",
      "     Sem Vítimas             119910\n",
      "2012 Com Vítimas Fatais        7003\n",
      "     Com Vítimas Feridas      63768\n",
      "     Sem Vítimas             113797\n",
      "2013 Com Vítimas Fatais        6887\n",
      "     Com Vítimas Feridas      64268\n",
      "     Sem Vítimas             115593\n",
      "2014 Com Vítimas Fatais        6742\n",
      "     Com Vítimas Feridas      62481\n",
      "     Sem Vítimas              99978\n",
      "2015 Com Vítimas Fatais        5648\n",
      "     Com Vítimas Feridas      56574\n",
      "     Sem Vítimas              59939\n",
      "2016 Com Vítimas Fatais        5355\n",
      "     Com Vítimas Feridas      54870\n",
      "     Sem Vítimas              36133\n",
      "2017 Com Vítimas Fatais        5181\n",
      "     Com Vítimas Feridas      53611\n",
      "     Sem Vítimas              30625\n",
      "2018 Com Vítimas Fatais        4504\n",
      "     Com Vítimas Feridas      49486\n",
      "     Sem Vítimas              15191\n",
      "2019 Com Vítimas Fatais        4590\n",
      "     Com Vítimas Feridas      51128\n",
      "     Sem Vítimas              11633\n",
      "2020 Com Vítimas Fatais        4515\n",
      "     Com Vítimas Feridas      47268\n",
      "     Sem Vítimas              11509\n"
     ]
    }
   ],
   "source": [
    "Classificacao_de_acidentes_por_ano = datatran_original.groupby([datatran_original['data_inversa'].dt.year.rename('Ano'), datatran_original['classificacao_acidente']]).agg({'id': 'count'})\n",
    "print(\"Classificação de acidentes por ano no Brasil (2007 a 2020): \" + str(Classificacao_de_acidentes_por_ano))"
   ]
  },
  {
   "cell_type": "code",
   "execution_count": 96,
   "metadata": {},
   "outputs": [
    {
     "data": {
      "image/png": "[encoded data removed]",
      "text/plain": [
       "<Figure size 1080x504 with 1 Axes>"
      ]
     },
     "metadata": {
      "needs_background": "light"
     },
     "output_type": "display_data"
    }
   ],
   "source": [
    "fig, ax = plt.subplots(figsize=(15,7))\n",
    "datatran_original.groupby([datatran_original['data_inversa'].dt.year.rename('Ano'), datatran_original['classificacao_acidente']]).agg({'id': 'count'}).unstack().plot(kind='bar', ax=ax)\n",
    "ax.set_alpha(0.8)\n",
    "ax.set_title(\"Classificação de acidentes por ano no Brasil (2007 a 2020)\", fontsize=22)\n",
    "ax.set_ylabel(\"Quantidade\", fontsize=15);\n",
    "ax.set_xlabel(\"Ano\", fontsize=15);\n",
    "plt.show()"
   ]
  },
  {
   "cell_type": "code",
   "execution_count": 97,
   "metadata": {},
   "outputs": [
    {
     "data": {
      "image/png": "[encoded data removed]",
      "text/plain": [
       "<Figure size 1080x504 with 1 Axes>"
      ]
     },
     "metadata": {
      "needs_background": "light"
     },
     "output_type": "display_data"
    }
   ],
   "source": [
    "fig, ax = plt.subplots(figsize=(15,7))\n",
    "acidentes_original.groupby([datatran_original['data_inversa'].dt.year.rename('Ano'), datatran_original['classificacao_acidente']]).agg({'id': 'count'}).unstack().plot(ax=ax)\n",
    "ax.set_alpha(0.8)\n",
    "ax.set_title(\"Classificação de acidentes por ano no Brasil (2007 a 2020)\", fontsize=22)\n",
    "ax.set_ylabel(\"Quantidade\", fontsize=15);\n",
    "ax.set_xlabel(\"Ano\", fontsize=15);\n",
    "plt.show()"
   ]
  },
  {
   "cell_type": "code",
   "execution_count": 98,
   "metadata": {
    "scrolled": true
   },
   "outputs": [
    {
     "name": "stdout",
     "output_type": "stream",
     "text": [
      "Acidentes por dia da semana no Brasil (2007 a 2020): dia_semana\n",
      "sexta-feira      299072\n",
      "sábado           291171\n",
      "domingo          278567\n",
      "segunda-feira    254185\n",
      "quinta-feira     252354\n",
      "quarta-feira     241816\n",
      "terça-feira      234271\n",
      "dtype: int64\n"
     ]
    }
   ],
   "source": [
    "Acidentes_por_dia_semana = datatran_original.groupby(['dia_semana']).size().sort_values(ascending=False)\n",
    "print(\"Acidentes por dia da semana no Brasil (2007 a 2020): \" + str(Acidentes_por_dia_semana))"
   ]
  },
  {
   "cell_type": "code",
   "execution_count": 99,
   "metadata": {},
   "outputs": [
    {
     "data": {
      "image/png": "[encoded data removed]",
      "text/plain": [
       "<Figure size 432x288 with 1 Axes>"
      ]
     },
     "metadata": {
      "needs_background": "light"
     },
     "output_type": "display_data"
    }
   ],
   "source": [
    "plt.title('Acidentes por dia da semana no Brasil (2007 a 2020)', fontsize=24)\n",
    "plt.ylabel('Quantidade', fontsize=24)\n",
    "plt.xlabel(\"Dia da Semana\", fontsize=24)\n",
    "Acidentes_por_dia_semana.plot(kind='bar')\n",
    "plt.rcParams[\"figure.figsize\"] = [16,9]\n",
    "plt.show()"
   ]
  },
  {
   "cell_type": "code",
   "execution_count": 100,
   "metadata": {},
   "outputs": [
    {
     "name": "stdout",
     "output_type": "stream",
     "text": [
      "Acidentes por dia da semana por ano no Brasil (2007 a 2020):                        id\n",
      "Ano  dia_semana          \n",
      "2007 domingo        20302\n",
      "     quarta-feira   16282\n",
      "     quinta-feira   17202\n",
      "     segunda-feira  16927\n",
      "     sexta-feira    20580\n",
      "     sábado         20465\n",
      "     terça-feira    15917\n",
      "2008 domingo        20671\n",
      "     quarta-feira   18913\n",
      "     quinta-feira   19041\n",
      "     segunda-feira  18812\n",
      "     sexta-feira    23221\n",
      "     sábado         22339\n",
      "     terça-feira    18046\n",
      "2009 domingo        22728\n",
      "     quarta-feira   20834\n",
      "     quinta-feira   22198\n",
      "     segunda-feira  21877\n",
      "     sexta-feira    26077\n",
      "     sábado         24645\n",
      "     terça-feira    20287\n",
      "2010 domingo        26682\n",
      "     quarta-feira   24443\n",
      "     quinta-feira   25165\n",
      "     segunda-feira  25436\n",
      "     sexta-feira    30183\n",
      "     sábado         28256\n",
      "     terça-feira    23304\n",
      "2011 domingo        28352\n",
      "     quarta-feira   25145\n",
      "     quinta-feira   26390\n",
      "     segunda-feira  26571\n",
      "     sexta-feira    30801\n",
      "     sábado         30337\n",
      "     terça-feira    24730\n",
      "2012 domingo        27180\n",
      "     quarta-feira   24243\n",
      "     quinta-feira   25557\n",
      "     segunda-feira  25504\n",
      "     sexta-feira    30828\n",
      "     sábado         27925\n",
      "     terça-feira    23331\n",
      "2013 domingo        26520\n",
      "     quarta-feira   24831\n",
      "     quinta-feira   25847\n",
      "     segunda-feira  26318\n",
      "     sexta-feira    30884\n",
      "     sábado         28007\n",
      "     terça-feira    24341\n",
      "2014 domingo        24248\n",
      "     quarta-feira   22637\n",
      "     quinta-feira   23300\n",
      "     segunda-feira  23606\n",
      "     sexta-feira    27883\n",
      "     sábado         25801\n",
      "     terça-feira    21726\n",
      "2015 domingo        18614\n",
      "     quarta-feira   16081\n",
      "     quinta-feira   16964\n",
      "     segunda-feira  17061\n",
      "     sexta-feira    18996\n",
      "     sábado         19047\n",
      "     terça-feira    15398\n",
      "2016 domingo        15561\n",
      "     quarta-feira   12108\n",
      "     quinta-feira   12774\n",
      "     segunda-feira  12914\n",
      "     sexta-feira    15086\n",
      "     sábado         16261\n",
      "     terça-feira    11654\n",
      "2017 domingo        14764\n",
      "     quarta-feira   11008\n",
      "     quinta-feira   11765\n",
      "     segunda-feira  12150\n",
      "     sexta-feira    13828\n",
      "     sábado         15151\n",
      "     terça-feira    10751\n",
      "2018 domingo        11271\n",
      "     quarta-feira    8814\n",
      "     quinta-feira    9208\n",
      "     segunda-feira   9410\n",
      "     sexta-feira    10609\n",
      "     sábado         11224\n",
      "     terça-feira     8645\n",
      "2019 domingo        11286\n",
      "     quarta-feira    8362\n",
      "     quinta-feira    8739\n",
      "     segunda-feira   9121\n",
      "     sexta-feira    10363\n",
      "     sábado         11087\n",
      "     terça-feira     8393\n",
      "2020 domingo        10388\n",
      "     quarta-feira    8115\n",
      "     quinta-feira    8204\n",
      "     segunda-feira   8478\n",
      "     sexta-feira     9733\n",
      "     sábado         10626\n",
      "     terça-feira     7748\n"
     ]
    }
   ],
   "source": [
    "Acidentes_por_dia_semana_por_ano = datatran_original.groupby([datatran_original['data_inversa'].dt.year.rename('Ano'), datatran_original['dia_semana']]).agg({'id': 'count'})\n",
    "print(\"Acidentes por dia da semana por ano no Brasil (2007 a 2020): \" + str(Acidentes_por_dia_semana_por_ano))"
   ]
  },
  {
   "cell_type": "code",
   "execution_count": 102,
   "metadata": {},
   "outputs": [
    {
     "data": {
      "image/png": "[encoded data removed]",
      "text/plain": [
       "<Figure size 1080x504 with 1 Axes>"
      ]
     },
     "metadata": {
      "needs_background": "light"
     },
     "output_type": "display_data"
    }
   ],
   "source": [
    "fig, ax = plt.subplots(figsize=(15,7))\n",
    "datatran_original.groupby([datatran_original['data_inversa'].dt.year.rename('Ano'), datatran_original['dia_semana']]).agg({'id': 'count'}).unstack().plot(kind='bar', ax=ax)\n",
    "ax.set_alpha(0.8)\n",
    "ax.set_title(\"Acidentes por dia da semana por ano no Brasil (2007 a 2020)\", fontsize=22)\n",
    "ax.set_ylabel(\"Quantidade\", fontsize=15);\n",
    "ax.set_xlabel(\"Ano\", fontsize=15);\n",
    "plt.show()"
   ]
  },
  {
   "cell_type": "code",
   "execution_count": 103,
   "metadata": {},
   "outputs": [
    {
     "name": "stdout",
     "output_type": "stream",
     "text": [
      "Acidentes por mês no Brasil (2007 a 2020): data_inversa\n",
      "December     173541\n",
      "January      157160\n",
      "July         156099\n",
      "May          155426\n",
      "October      155267\n",
      "March        153963\n",
      "November     152524\n",
      "August       152213\n",
      "April        151393\n",
      "September    150975\n",
      "June         149991\n",
      "February     142884\n",
      "Name: id, dtype: int64\n"
     ]
    }
   ],
   "source": [
    "datatran_original.data_inversa = pd.to_datetime(datatran_original.data_inversa)\n",
    "Acidentes_por_mes = datatran_original.groupby(datatran_original['data_inversa'].dt.strftime('%B'))['id'].count().sort_values(ascending=False)\n",
    "print(\"Acidentes por mês no Brasil (2007 a 2020): \" + str(Acidentes_por_mes))"
   ]
  },
  {
   "cell_type": "code",
   "execution_count": 104,
   "metadata": {},
   "outputs": [
    {
     "data": {
      "image/png": "[encoded data removed]",
      "text/plain": [
       "<Figure size 1152x648 with 1 Axes>"
      ]
     },
     "metadata": {
      "needs_background": "light"
     },
     "output_type": "display_data"
    }
   ],
   "source": [
    "plt.title('Acidentes por mês no Brasil (2007 a 2020)', fontsize=24)\n",
    "plt.ylabel('Quantidade', fontsize=24)\n",
    "plt.xlabel('Mês', fontsize=24)\n",
    "Acidentes_por_mes.plot(kind='bar')\n",
    "plt.rcParams[\"figure.figsize\"] = [32,18]\n",
    "plt.show()"
   ]
  },
  {
   "cell_type": "code",
   "execution_count": 105,
   "metadata": {},
   "outputs": [
    {
     "name": "stdout",
     "output_type": "stream",
     "text": [
      "Tipo de veículos (2007 a 2020): tipo_veiculo\n",
      "Automóvel            1917750\n",
      "Motocicleta           445796\n",
      "Caminhão              378317\n",
      "Caminhão-trator       378245\n",
      "Caminhonete           295718\n",
      "Ônibus                157854\n",
      "Camioneta             130085\n",
      "Não Informado          75381\n",
      "Motoneta               46024\n",
      "Microônibus            39892\n",
      "Bicicleta              37122\n",
      "Utilitário             26115\n",
      "Ciclomotor              6919\n",
      "Outros                  2804\n",
      "Semireboque             2759\n",
      "Trator de rodas         2144\n",
      "Carroça                 1863\n",
      "Caminhão-tanque         1457\n",
      "Reboque                  711\n",
      "Carroça-charrete         344\n",
      "Triciclo                 326\n",
      "Charrete                 248\n",
      "Bonde / Trem             222\n",
      "Trator misto             172\n",
      "Carro-de-mao             118\n",
      "Trator de esteira         82\n",
      "Quadriciclo               30\n",
      "Trem-bonde                29\n",
      "Motor-Casa                11\n",
      "Chassi-plataforma          9\n",
      "Side-car                   8\n",
      "dtype: int64\n"
     ]
    }
   ],
   "source": [
    "Acidentes_por_tipo_veiculo = acidentes_original.groupby(['tipo_veiculo']).size().sort_values(ascending=False)\n",
    "print(\"Tipo de veículos (2007 a 2020): \" + str(Acidentes_por_tipo_veiculo))"
   ]
  },
  {
   "cell_type": "code",
   "execution_count": 106,
   "metadata": {},
   "outputs": [
    {
     "name": "stdout",
     "output_type": "stream",
     "text": [
      "Acidentes por causa no Brasil (2007 a 2020): causa_acidente\n",
      "Falta de atenção                                                                  507439\n",
      "Outras                                                                            451222\n",
      "Velocidade incompatível                                                           163062\n",
      "Não guardar distância de segurança                                                157882\n",
      "Falta de atenção à condução                                                       107548\n",
      "Ingestão de álcool                                                                 83541\n",
      "Defeito mecânico em veículo                                                        78746\n",
      "Desobediência à sinalização                                                        63685\n",
      "Animais na pista                                                                   48985\n",
      "Dormindo                                                                           40911\n",
      "Ultrapassagem indevida                                                             40903\n",
      "Desobediência às normas de trânsito pelo condutor                                  29238\n",
      "Defeito na via                                                                     28053\n",
      "Condutor dormindo                                                                  11016\n",
      "Pista escorregadia                                                                 10977\n",
      "Falta de atenção do pedestre                                                        8068\n",
      "Avarias e/ou desgaste excessivo no pneu                                             4297\n",
      "Mal súbito                                                                          2945\n",
      "Restrição de visibilidade                                                           2381\n",
      "Objeto estático sobre o leito carroçável                                            2182\n",
      "Carga excessiva e/ou mal acondicionada                                              1590\n",
      "Fenômenos da natureza                                                               1199\n",
      "Sinalização da via insuficiente ou inadequada                                       1184\n",
      "Agressão Externa                                                                    1075\n",
      "Desobediência às normas de trânsito pelo pedestre                                   1051\n",
      "Ingestão de álcool e/ou substâncias psicoativas pelo pedestre                       1047\n",
      "Deficiência ou não Acionamento do Sistema de Iluminação/Sinalização do Veículo       766\n",
      "Ingestão de substâncias psicoativas                                                  330\n",
      "Reação tardia ou ineficiente do condutor                                              14\n",
      "Manobra de mudança de faixa                                                           13\n",
      "Transitar na contramão                                                                11\n",
      "Condutor deixou de manter distância do veículo da frente                              10\n",
      "Ausência de reação do condutor                                                        10\n",
      "Ingestão de álcool pelo condutor                                                       7\n",
      "Acessar a via sem observar a presença dos outros veículos                              7\n",
      "Demais falhas mecânicas ou elétricas                                                   5\n",
      "Desrespeitar a preferência no cruzamento                                               4\n",
      "Conversão proibida                                                                     4\n",
      "Condutor desrespeitou a iluminação vermelha do semáforo                                3\n",
      "Pedestre andava na pista                                                               2\n",
      "Transitar no acostamento                                                               2\n",
      "Chuva                                                                                  2\n",
      "Falta de acostamento                                                                   2\n",
      "Não Informado                                                                          2\n",
      "Demais falhas na via                                                                   2\n",
      "Mal súbito do condutor                                                                 2\n",
      "Entrada inopinada do pedestre                                                          2\n",
      "Condutor usando celular                                                                1\n",
      "Ingestão de álcool ou de substâncias psicoativas pelo pedestre                         1\n",
      "Pedestre cruzava a pista fora da faixa                                                 1\n",
      "Ausência de sinalização                                                                1\n",
      "Afundamento ou ondulação no pavimento                                                  1\n",
      "Trafegar com motocicleta (ou similar) entre as faixas                                  1\n",
      "Acumulo de óleo sobre o pavimento                                                      1\n",
      "Acumulo de água sobre o pavimento                                                      1\n",
      "Acostamento em desnível                                                                1\n",
      "dtype: int64\n"
     ]
    }
   ],
   "source": [
    "Acidentes_por_causa = datatran_original.groupby(['causa_acidente']).size().sort_values(ascending=False)\n",
    "print(\"Acidentes por causa no Brasil (2007 a 2020): \" + str(Acidentes_por_causa))"
   ]
  },
  {
   "cell_type": "code",
   "execution_count": 107,
   "metadata": {},
   "outputs": [
    {
     "name": "stdout",
     "output_type": "stream",
     "text": [
      "Acidentes por tipo no Brasil (2007 a 2020): tipo_acidente\n",
      "Colisão traseira                              487683\n",
      "Colisão lateral                               288629\n",
      "Saída de pista                                232918\n",
      "Colisão transversal                           191836\n",
      "Colisão com objeto estático                   115849\n",
      "Capotamento                                    88873\n",
      "Tombamento                                     85857\n",
      "Colisão frontal                                76809\n",
      "Atropelamento de pessoa                        57146\n",
      "Queda de motocicleta / bicicleta / veículo     52459\n",
      "Saída de leito carroçável                      47741\n",
      "Atropelamento de animal                        41849\n",
      "Colisão com bicicleta                          18548\n",
      "Colisão com objeto em movimento                16506\n",
      "Queda de ocupante de veículo                   12721\n",
      "Incêndio                                       11720\n",
      "Danos eventuais                                10664\n",
      "Derramamento de carga                           9599\n",
      "Engavetamento                                   4004\n",
      "Colisão com objeto                                17\n",
      "Colisão lateral sentido oposto                     5\n",
      "Colisão lateral mesmo sentido                      3\n",
      "dtype: int64\n"
     ]
    }
   ],
   "source": [
    "Acidentes_por_tipo = datatran_original.groupby(['tipo_acidente']).size().sort_values(ascending=False)\n",
    "print(\"Acidentes por tipo no Brasil (2007 a 2020): \" + str(Acidentes_por_tipo))"
   ]
  },
  {
   "cell_type": "code",
   "execution_count": 108,
   "metadata": {},
   "outputs": [
    {
     "name": "stdout",
     "output_type": "stream",
     "text": [
      "Acidentes por fase do dia no Brasil (2007 a 2020): fase_dia\n",
      "Pleno dia        1067277\n",
      "Plena noite       581236\n",
      "Anoitecer         109318\n",
      "Amanhecer          93536\n",
      "Não Informado         69\n",
      "dtype: int64\n"
     ]
    }
   ],
   "source": [
    "Acidentes_por_fase_do_dia = datatran_original.groupby(['fase_dia']).size().sort_values(ascending=False)\n",
    "print(\"Acidentes por fase do dia no Brasil (2007 a 2020): \" + str(Acidentes_por_fase_do_dia))"
   ]
  },
  {
   "cell_type": "code",
   "execution_count": 109,
   "metadata": {},
   "outputs": [
    {
     "name": "stdout",
     "output_type": "stream",
     "text": [
      "Acidentes por fase do dia no Brasil (2007 a 2020): condicao_metereologica\n",
      "Céu Claro           916776\n",
      "Nublado             333835\n",
      "Chuva               307282\n",
      "Sol                 226906\n",
      "Não Informado        32813\n",
      "Nevoeiro/neblina     18655\n",
      "Garoa/chuvisco        9854\n",
      "Vento                 4906\n",
      "Granizo                301\n",
      "Neve                   108\n",
      "dtype: int64\n"
     ]
    }
   ],
   "source": [
    "Acidentes_por_condi_met = datatran_original.groupby(['condicao_metereologica']).size().sort_values(ascending=False)\n",
    "print(\"Acidentes por fase do dia no Brasil (2007 a 2020): \" + str(Acidentes_por_condi_met))"
   ]
  },
  {
   "cell_type": "code",
   "execution_count": 110,
   "metadata": {},
   "outputs": [
    {
     "name": "stdout",
     "output_type": "stream",
     "text": [
      "Acidentes por tipo de pista no Brasil (2007 a 2020): tipo_pista\n",
      "Simples          966436\n",
      "Dupla            744842\n",
      "Múltipla         140148\n",
      "Não Informado        10\n",
      "dtype: int64\n"
     ]
    }
   ],
   "source": [
    "Acidentes_por_tipo_de_pista = datatran_original.groupby(['tipo_pista']).size().sort_values(ascending=False)\n",
    "print(\"Acidentes por tipo de pista no Brasil (2007 a 2020): \" + str(Acidentes_por_tipo_de_pista))"
   ]
  },
  {
   "cell_type": "code",
   "execution_count": 111,
   "metadata": {},
   "outputs": [
    {
     "name": "stdout",
     "output_type": "stream",
     "text": [
      "Acidentes por tipo de traçado no Brasil (2007 a 2020): tracado_via\n",
      "Reta                     1298382\n",
      "Curva                     387008\n",
      "Cruzamento                101924\n",
      "Não Informado              29746\n",
      "Interseção de vias         13133\n",
      "Desvio Temporário           8022\n",
      "Rotatória                   5936\n",
      "Retorno Regulamentado       3318\n",
      "Viaduto                     2047\n",
      "Ponte                       1597\n",
      "Túnel                        323\n",
      "dtype: int64\n"
     ]
    }
   ],
   "source": [
    "Acidentes_por_tracado_da_via = datatran_original.groupby(['tracado_via']).size().sort_values(ascending=False)\n",
    "print(\"Acidentes por tipo de traçado no Brasil (2007 a 2020): \" + str(Acidentes_por_tracado_da_via))"
   ]
  },
  {
   "cell_type": "code",
   "execution_count": 112,
   "metadata": {},
   "outputs": [
    {
     "name": "stdout",
     "output_type": "stream",
     "text": [
      "Acidentes por BR no Brasil (2007 a 2020): br\n",
      "101       317309\n",
      "116       313742\n",
      "381       112507\n",
      "40         93179\n",
      "153        70526\n",
      "364        55897\n",
      "262        55044\n",
      "316        51676\n",
      "277        50786\n",
      "376        47370\n",
      "163        40685\n",
      "470        38089\n",
      "230        36879\n",
      "282        35341\n",
      "60         27479\n",
      "324        25986\n",
      "476        22194\n",
      "290        21502\n",
      "232        20319\n",
      "222        19469\n",
      "135        18441\n",
      "386        18315\n",
      "20         18123\n",
      "158        17392\n",
      "369        17251\n",
      "70         16708\n",
      "280        16507\n",
      "50         16259\n",
      "365        15094\n",
      "343        14498\n",
      "393        13201\n",
      "104        11921\n",
      "285        11593\n",
      "267         9905\n",
      "10          9818\n",
      "174         9344\n",
      "392         9272\n",
      "304         9115\n",
      "242         7635\n",
      "110         7488\n",
      "319         6954\n",
      "407         6588\n",
      "287         6008\n",
      "251         5995\n",
      "235         5668\n",
      "356         5140\n",
      "459         5134\n",
      "226         4943\n",
      "373         4323\n",
      "423         3840\n",
      "428         3749\n",
      "452         3522\n",
      "493         3271\n",
      "293         3175\n",
      "408         3096\n",
      "465         3020\n",
      "471         2911\n",
      "259         2713\n",
      "354         2644\n",
      "367         2490\n",
      "472         2348\n",
      "467         2193\n",
      "406         2181\n",
      "414         2103\n",
      "424         1843\n",
      "210         1811\n",
      "405         1716\n",
      "146         1700\n",
      "463         1689\n",
      "272         1670\n",
      "480         1588\n",
      "427         1388\n",
      "80          1269\n",
      "330         1087\n",
      "487         1047\n",
      "468          994\n",
      "156          900\n",
      "402          860\n",
      "469          799\n",
      "155          782\n",
      "488          779\n",
      "361          769\n",
      "317          749\n",
      "415          724\n",
      "401          715\n",
      "418          688\n",
      "308          596\n",
      "450          593\n",
      "448          511\n",
      "495          508\n",
      "474          498\n",
      "410          440\n",
      "412          434\n",
      "460          399\n",
      "453          392\n",
      "377          342\n",
      "601          317\n",
      "435          310\n",
      "447          290\n",
      "420          260\n",
      "359          235\n",
      "429          229\n",
      "404          222\n",
      "419          207\n",
      "432          171\n",
      "482          162\n",
      "421          114\n",
      "425           99\n",
      "416           96\n",
      "0             74\n",
      "605           62\n",
      "485           54\n",
      "30            50\n",
      "216           47\n",
      "349           32\n",
      "436           28\n",
      "473           24\n",
      "422           15\n",
      "122           12\n",
      "(null)        12\n",
      "434           11\n",
      "426           10\n",
      "403           10\n",
      "484            8\n",
      "120            7\n",
      "498            6\n",
      "7              6\n",
      "451            5\n",
      "265            4\n",
      "433            4\n",
      "1              3\n",
      "604            3\n",
      "352            3\n",
      "4              3\n",
      "400            3\n",
      "457            3\n",
      "241            2\n",
      "430            2\n",
      "270            2\n",
      "303            2\n",
      "617            1\n",
      "634            1\n",
      "648            1\n",
      "142            1\n",
      "140            1\n",
      "660            1\n",
      "591            1\n",
      "580            1\n",
      "560            1\n",
      "552            1\n",
      "544            1\n",
      "505            1\n",
      "501            1\n",
      "654            1\n",
      "417            1\n",
      "661            1\n",
      "767            1\n",
      "931            1\n",
      "884            1\n",
      "870            1\n",
      "869            1\n",
      "851            1\n",
      "84             1\n",
      "762            1\n",
      "681            1\n",
      "759            1\n",
      "756            1\n",
      "719            1\n",
      "707            1\n",
      "143            1\n",
      "687            1\n",
      "107            1\n",
      "154            1\n",
      "499            1\n",
      "147            1\n",
      "250            1\n",
      "268            1\n",
      "462            1\n",
      "28             1\n",
      "298            1\n",
      "323            1\n",
      "332            1\n",
      "337            1\n",
      "342            1\n",
      "441            1\n",
      "351            1\n",
      "37             1\n",
      "380            1\n",
      "383            1\n",
      "388            1\n",
      "47             1\n",
      "221            1\n",
      "211            1\n",
      "178            1\n",
      "152            1\n",
      "490            1\n",
      "489            1\n",
      "409            1\n",
      "173            1\n",
      "486            1\n",
      "183            1\n",
      "208            1\n",
      "184            1\n",
      "477            1\n",
      "186            1\n",
      "475            1\n",
      "191            1\n",
      "2              1\n",
      "958            1\n",
      "dtype: int64\n"
     ]
    }
   ],
   "source": [
    "Acidentes_por_br = datatran_original.groupby(['br']).size().sort_values(ascending=False)\n",
    "print(\"Acidentes por BR no Brasil (2007 a 2020): \" + str(Acidentes_por_br))"
   ]
  },
  {
   "cell_type": "code",
   "execution_count": 113,
   "metadata": {},
   "outputs": [
    {
     "name": "stdout",
     "output_type": "stream",
     "text": [
      "Acidentes por sexo dos envolvidos no Brasil (2007 a 2020): sexo\n",
      "Masculino        3078596\n",
      "Feminino          691631\n",
      "Não Informado     178328\n",
      "dtype: int64\n"
     ]
    }
   ],
   "source": [
    "Acidentes_por_sexo_envolvido = acidentes_original.groupby(['sexo']).size().sort_values(ascending=False)\n",
    "print(\"Acidentes por sexo dos envolvidos no Brasil (2007 a 2020): \" + str(Acidentes_por_sexo_envolvido))"
   ]
  },
  {
   "cell_type": "code",
   "execution_count": 114,
   "metadata": {},
   "outputs": [
    {
     "name": "stdout",
     "output_type": "stream",
     "text": [
      "Acidentes por sexo por envolvido no Brasil (2007 a 2020): tipo_envolvido         sexo         \n",
      "Cavaleiro              Feminino              41\n",
      "                       Masculino            793\n",
      "                       Não Informado         28\n",
      "Condutor               Feminino          287288\n",
      "                       Masculino        2692991\n",
      "                       Não Informado     147544\n",
      "Passageiro             Feminino          388567\n",
      "                       Masculino         342043\n",
      "                       Não Informado      15613\n",
      "Pedestre               Feminino           15735\n",
      "                       Masculino          42769\n",
      "                       Não Informado       1550\n",
      "Proprietário de Carga  Não Informado          1\n",
      "Testemunha             Não Informado      13592\n",
      "dtype: int64\n"
     ]
    }
   ],
   "source": [
    "Acidentes_por_sexo_e_envolvido = acidentes_original.groupby(['tipo_envolvido','sexo']).size()\n",
    "print(\"Acidentes por sexo por envolvido no Brasil (2007 a 2020): \" + str(Acidentes_por_sexo_e_envolvido))"
   ]
  },
  {
   "cell_type": "code",
   "execution_count": 115,
   "metadata": {},
   "outputs": [],
   "source": [
    "#Salvando a base tratada\n",
    "datatran_original.to_csv(r\"datatran.csv\", index = False, header = True, sep=';', decimal=',', encoding = 'cp1252')\n",
    "acidentes_original.to_csv(r\"acidentes.csv\", index = False, header = True, sep=';', decimal=',', encoding = 'cp1252')"
   ]
  }
 ],
 "metadata": {
  "kernelspec": {
   "display_name": "Python 3",
   "language": "python",
   "name": "python3"
  },
  "language_info": {
   "codemirror_mode": {
    "name": "ipython",
    "version": 3
   },
   "file_extension": ".py",
   "mimetype": "text/x-python",
   "name": "python",
   "nbconvert_exporter": "python",
   "pygments_lexer": "ipython3",
   "version": "3.8.5"
  }
 },
 "nbformat": 4,
 "nbformat_minor": 4
}
